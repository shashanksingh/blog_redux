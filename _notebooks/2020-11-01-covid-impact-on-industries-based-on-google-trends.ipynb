{
 "cells": [
  {
   "cell_type": "markdown",
   "metadata": {},
   "source": [
    "# \"Covid vs The World - Part II\"\n",
    "> \"How have various industries  fared against covid-19 \"\n",
    "\n",
    "- toc: false\n",
    "- branch: master\n",
    "- badges: false\n",
    "- comments: true\n",
    "- categories: [dfs, jupyter, python]\n",
    "- image: images/statistics.png\n",
    "- hide: false"
   ]
  },
  {
   "cell_type": "code",
   "execution_count": 3,
   "metadata": {},
   "outputs": [
    {
     "name": "stdout",
     "output_type": "stream",
     "text": [
      "Requirement already satisfied: matplotlib in /Users/shashanksingh/.pyenv/versions/3.9.0/envs/blog_redux/lib/python3.9/site-packages (3.3.3)\n",
      "Requirement already satisfied: pandas in /Users/shashanksingh/.pyenv/versions/3.9.0/envs/blog_redux/lib/python3.9/site-packages (1.1.4)\n",
      "Requirement already satisfied: pycountry in /Users/shashanksingh/.pyenv/versions/3.9.0/envs/blog_redux/lib/python3.9/site-packages (20.7.3)\n",
      "Requirement already satisfied: plotly in /Users/shashanksingh/.pyenv/versions/3.9.0/envs/blog_redux/lib/python3.9/site-packages (4.13.0)\n",
      "Requirement already satisfied: pillow>=6.2.0 in /Users/shashanksingh/.pyenv/versions/3.9.0/envs/blog_redux/lib/python3.9/site-packages (from matplotlib) (8.0.1)\n",
      "Requirement already satisfied: kiwisolver>=1.0.1 in /Users/shashanksingh/.pyenv/versions/3.9.0/envs/blog_redux/lib/python3.9/site-packages (from matplotlib) (1.3.1)\n",
      "Requirement already satisfied: pyparsing!=2.0.4,!=2.1.2,!=2.1.6,>=2.0.3 in /Users/shashanksingh/.pyenv/versions/3.9.0/envs/blog_redux/lib/python3.9/site-packages (from matplotlib) (2.4.7)\n",
      "Requirement already satisfied: python-dateutil>=2.1 in /Users/shashanksingh/.pyenv/versions/3.9.0/envs/blog_redux/lib/python3.9/site-packages (from matplotlib) (2.8.1)\n",
      "Requirement already satisfied: cycler>=0.10 in /Users/shashanksingh/.pyenv/versions/3.9.0/envs/blog_redux/lib/python3.9/site-packages (from matplotlib) (0.10.0)\n",
      "Requirement already satisfied: numpy>=1.15 in /Users/shashanksingh/.pyenv/versions/3.9.0/envs/blog_redux/lib/python3.9/site-packages (from matplotlib) (1.19.4)\n",
      "Requirement already satisfied: pytz>=2017.2 in /Users/shashanksingh/.pyenv/versions/3.9.0/envs/blog_redux/lib/python3.9/site-packages (from pandas) (2020.4)\n",
      "Requirement already satisfied: six in /Users/shashanksingh/.pyenv/versions/3.9.0/envs/blog_redux/lib/python3.9/site-packages (from plotly) (1.15.0)\n",
      "Requirement already satisfied: retrying>=1.3.3 in /Users/shashanksingh/.pyenv/versions/3.9.0/envs/blog_redux/lib/python3.9/site-packages (from plotly) (1.3.3)\n",
      "\u001b[33mWARNING: You are using pip version 20.2.3; however, version 20.3 is available.\n",
      "You should consider upgrading via the '/Users/shashanksingh/.pyenv/versions/3.9.0/envs/blog_redux/bin/python3.9 -m pip install --upgrade pip' command.\u001b[0m\n"
     ]
    }
   ],
   "source": [
    "#hide\n",
    "!pip install matplotlib pandas pycountry plotly"
   ]
  },
  {
   "cell_type": "markdown",
   "metadata": {},
   "source": [
    "I have been thinking to understand the true impact of industries."
   ]
  },
  {
   "cell_type": "code",
   "execution_count": null,
   "metadata": {},
   "outputs": [],
   "source": []
  }
 ],
 "metadata": {
  "kernelspec": {
   "display_name": "Python 3",
   "language": "python",
   "name": "python3"
  },
  "language_info": {
   "codemirror_mode": {
    "name": "ipython",
    "version": 3
   },
   "file_extension": ".py",
   "mimetype": "text/x-python",
   "name": "python",
   "nbconvert_exporter": "python",
   "pygments_lexer": "ipython3",
   "version": "3.9.0"
  }
 },
 "nbformat": 4,
 "nbformat_minor": 4
}
