{
 "cells": [
  {
   "cell_type": "markdown",
   "id": "e4c32caf",
   "metadata": {},
   "source": [
    "# Covid vs India \n",
    "> One of the biggest question I have been wondering is , with every adult allowed now to register, Where are vaccines slots available in india ? How can I make this decision programmitcally because trying to find information on government website is rather \"sisyphus task\".\n",
    "So with rather self involed goal in mind, We would using publicly avaialbe data try to answer following questions\n",
    "- toc: false\n",
    "- branch: master\n",
    "- badges: false\n",
    "- comments: true\n",
    "- categories: [dfs, jupyter, python]\n",
    "- image: images/statistics.png\n",
    "- hide: false"
   ]
  },
  {
   "cell_type": "markdown",
   "id": "cac91451",
   "metadata": {},
   "source": [
    "1. what's ground reality for Key states like Delhi, Maharastra , Tamil Nadu\n",
    "2. What's ground reality for populus states like UP, MP, \n",
    "3. How does it fare around \n",
    "2. Latest vaccine slots per district and State in India\n",
    "2. Top 5 States Running behind on schedule\n",
    "3. Top 5 States Running ahead of everyone else.\n",
    "4. When can I latest find slots in Delhi, Bombay, Chennai and Bangalore for people between 18-45\n",
    "\n",
    "\n",
    "\n",
    "Thanks to https://github.com/bhattbhavesh91/cowin-vaccination-slot-availability/blob/main/cowin-api-availability.ipynb for doing actual work, I picked up loads of stuff from there.\n"
   ]
  },
  {
   "cell_type": "code",
   "execution_count": 293,
   "id": "db9f0631",
   "metadata": {
    "scrolled": true
   },
   "outputs": [
    {
     "name": "stdout",
     "output_type": "stream",
     "text": [
      "Requirement already satisfied: install in /Users/saimeerashanawas/Library/Python/3.8/lib/python/site-packages (1.3.4)\n",
      "Requirement already satisfied: requests in /Users/saimeerashanawas/Library/Python/3.8/lib/python/site-packages (2.25.1)\n",
      "Requirement already satisfied: chardet<5,>=3.0.2 in /Users/saimeerashanawas/Library/Python/3.8/lib/python/site-packages (from requests) (4.0.0)\n",
      "Requirement already satisfied: urllib3<1.27,>=1.21.1 in /Users/saimeerashanawas/Library/Python/3.8/lib/python/site-packages (from requests) (1.26.4)\n",
      "Requirement already satisfied: certifi>=2017.4.17 in /Users/saimeerashanawas/Library/Python/3.8/lib/python/site-packages (from requests) (2020.12.5)\n",
      "Requirement already satisfied: idna<3,>=2.5 in /Users/saimeerashanawas/Library/Python/3.8/lib/python/site-packages (from requests) (2.10)\n",
      "\u001b[33mWARNING: You are using pip version 19.2.3, however version 21.1 is available.\n",
      "You should consider upgrading via the 'pip install --upgrade pip' command.\u001b[0m\n",
      "Requirement already satisfied: install in /Users/saimeerashanawas/Library/Python/3.8/lib/python/site-packages (1.3.4)\n",
      "Requirement already satisfied: altair in /Users/saimeerashanawas/Library/Python/3.8/lib/python/site-packages (4.1.0)\n",
      "Requirement already satisfied: toolz in /Users/saimeerashanawas/Library/Python/3.8/lib/python/site-packages (from altair) (0.11.1)\n",
      "Requirement already satisfied: jsonschema in /Users/saimeerashanawas/Library/Python/3.8/lib/python/site-packages (from altair) (3.2.0)\n",
      "Requirement already satisfied: numpy in /Users/saimeerashanawas/Library/Python/3.8/lib/python/site-packages (from altair) (1.20.2)\n",
      "Requirement already satisfied: jinja2 in /Users/saimeerashanawas/Library/Python/3.8/lib/python/site-packages (from altair) (2.11.3)\n",
      "Requirement already satisfied: pandas>=0.18 in /Users/saimeerashanawas/Library/Python/3.8/lib/python/site-packages (from altair) (1.2.4)\n",
      "Requirement already satisfied: entrypoints in /Users/saimeerashanawas/Library/Python/3.8/lib/python/site-packages (from altair) (0.3)\n",
      "Requirement already satisfied: six>=1.11.0 in /Library/Developer/CommandLineTools/Library/Frameworks/Python3.framework/Versions/3.8/lib/python3.8/site-packages (from jsonschema->altair) (1.15.0)\n",
      "Requirement already satisfied: setuptools in /Library/Developer/CommandLineTools/Library/Frameworks/Python3.framework/Versions/3.8/lib/python3.8/site-packages (from jsonschema->altair) (41.2.0)\n",
      "Requirement already satisfied: attrs>=17.4.0 in /Users/saimeerashanawas/Library/Python/3.8/lib/python/site-packages (from jsonschema->altair) (20.3.0)\n",
      "Requirement already satisfied: pyrsistent>=0.14.0 in /Users/saimeerashanawas/Library/Python/3.8/lib/python/site-packages (from jsonschema->altair) (0.17.3)\n",
      "Requirement already satisfied: MarkupSafe>=0.23 in /Users/saimeerashanawas/Library/Python/3.8/lib/python/site-packages (from jinja2->altair) (1.1.1)\n",
      "Requirement already satisfied: pytz>=2017.3 in /Users/saimeerashanawas/Library/Python/3.8/lib/python/site-packages (from pandas>=0.18->altair) (2021.1)\n",
      "Requirement already satisfied: python-dateutil>=2.7.3 in /Users/saimeerashanawas/Library/Python/3.8/lib/python/site-packages (from pandas>=0.18->altair) (2.8.1)\n",
      "\u001b[33mWARNING: You are using pip version 19.2.3, however version 21.1 is available.\n",
      "You should consider upgrading via the 'pip install --upgrade pip' command.\u001b[0m\n",
      "Requirement already satisfied: install in /Users/saimeerashanawas/Library/Python/3.8/lib/python/site-packages (1.3.4)\n",
      "Requirement already satisfied: pandas in /Users/saimeerashanawas/Library/Python/3.8/lib/python/site-packages (1.2.4)\n",
      "Requirement already satisfied: numpy>=1.16.5 in /Users/saimeerashanawas/Library/Python/3.8/lib/python/site-packages (from pandas) (1.20.2)\n",
      "Requirement already satisfied: python-dateutil>=2.7.3 in /Users/saimeerashanawas/Library/Python/3.8/lib/python/site-packages (from pandas) (2.8.1)\n",
      "Requirement already satisfied: pytz>=2017.3 in /Users/saimeerashanawas/Library/Python/3.8/lib/python/site-packages (from pandas) (2021.1)\n",
      "Requirement already satisfied: six>=1.5 in /Library/Developer/CommandLineTools/Library/Frameworks/Python3.framework/Versions/3.8/lib/python3.8/site-packages (from python-dateutil>=2.7.3->pandas) (1.15.0)\n",
      "\u001b[33mWARNING: You are using pip version 19.2.3, however version 21.1 is available.\n",
      "You should consider upgrading via the 'pip install --upgrade pip' command.\u001b[0m\n",
      "Requirement already satisfied: install in /Users/saimeerashanawas/Library/Python/3.8/lib/python/site-packages (1.3.4)\n",
      "Requirement already satisfied: geopandas in /Users/saimeerashanawas/Library/Python/3.8/lib/python/site-packages (0.9.0)\n",
      "Requirement already satisfied: fiona>=1.8 in /Users/saimeerashanawas/Library/Python/3.8/lib/python/site-packages (from geopandas) (1.8.19)\n",
      "Requirement already satisfied: pyproj>=2.2.0 in /Users/saimeerashanawas/Library/Python/3.8/lib/python/site-packages (from geopandas) (3.0.1)\n",
      "Requirement already satisfied: pandas>=0.24.0 in /Users/saimeerashanawas/Library/Python/3.8/lib/python/site-packages (from geopandas) (1.2.4)\n",
      "Requirement already satisfied: shapely>=1.6 in /Users/saimeerashanawas/Library/Python/3.8/lib/python/site-packages (from geopandas) (1.7.1)\n",
      "Requirement already satisfied: munch in /Users/saimeerashanawas/Library/Python/3.8/lib/python/site-packages (from fiona>=1.8->geopandas) (2.5.0)\n",
      "Requirement already satisfied: certifi in /Users/saimeerashanawas/Library/Python/3.8/lib/python/site-packages (from fiona>=1.8->geopandas) (2020.12.5)\n",
      "Requirement already satisfied: cligj>=0.5 in /Users/saimeerashanawas/Library/Python/3.8/lib/python/site-packages (from fiona>=1.8->geopandas) (0.7.1)\n",
      "Requirement already satisfied: six>=1.7 in /Library/Developer/CommandLineTools/Library/Frameworks/Python3.framework/Versions/3.8/lib/python3.8/site-packages (from fiona>=1.8->geopandas) (1.15.0)\n",
      "Requirement already satisfied: click<8,>=4.0 in /Users/saimeerashanawas/Library/Python/3.8/lib/python/site-packages (from fiona>=1.8->geopandas) (7.1.2)\n",
      "Requirement already satisfied: click-plugins>=1.0 in /Users/saimeerashanawas/Library/Python/3.8/lib/python/site-packages (from fiona>=1.8->geopandas) (1.1.1)\n",
      "Requirement already satisfied: attrs>=17 in /Users/saimeerashanawas/Library/Python/3.8/lib/python/site-packages (from fiona>=1.8->geopandas) (20.3.0)\n",
      "Requirement already satisfied: python-dateutil>=2.7.3 in /Users/saimeerashanawas/Library/Python/3.8/lib/python/site-packages (from pandas>=0.24.0->geopandas) (2.8.1)\n",
      "Requirement already satisfied: numpy>=1.16.5 in /Users/saimeerashanawas/Library/Python/3.8/lib/python/site-packages (from pandas>=0.24.0->geopandas) (1.20.2)\n",
      "Requirement already satisfied: pytz>=2017.3 in /Users/saimeerashanawas/Library/Python/3.8/lib/python/site-packages (from pandas>=0.24.0->geopandas) (2021.1)\n",
      "\u001b[33mWARNING: You are using pip version 19.2.3, however version 21.1 is available.\n",
      "You should consider upgrading via the 'pip install --upgrade pip' command.\u001b[0m\n"
     ]
    }
   ],
   "source": [
    "#hide\n",
    "!{sys.executable} -m pip install --user install requests\n",
    "!{sys.executable} -m pip install --user install altair\n",
    "!{sys.executable} -m pip install --user install pandas\n",
    "!{sys.executable} -m pip install --user install geopandas"
   ]
  },
  {
   "cell_type": "markdown",
   "id": "bf518408",
   "metadata": {},
   "source": [
    "Get All libraries in place"
   ]
  },
  {
   "cell_type": "code",
   "execution_count": 298,
   "id": "aa196a49",
   "metadata": {},
   "outputs": [],
   "source": [
    "import geopandas as gpd\n",
    "import pandas as pd\n",
    "import requests\n",
    "import json\n",
    "from collections import defaultdict\n",
    "from dataclasses import dataclass, asdict, field\n",
    "from datetime import datetime\n",
    "from typing import List\n",
    "import uuid"
   ]
  },
  {
   "cell_type": "markdown",
   "id": "79d85b16",
   "metadata": {},
   "source": [
    "Lets make a data class to store our geographical and vaccination data"
   ]
  },
  {
   "cell_type": "code",
   "execution_count": 303,
   "id": "f5fb8984",
   "metadata": {},
   "outputs": [],
   "source": [
    "@dataclass\n",
    "class District:\n",
    "    district_id:int = None\n",
    "    district_name:str = None\n",
    "    state_id:int = None\n",
    "    district_created_at: datetime = field(default_factory=datetime.now)\n",
    "\n",
    "\n",
    "@dataclass\n",
    "class Session:\n",
    "    session_uuid:str = None\n",
    "    date:datetime = None\n",
    "    query_date:datetime= None\n",
    "    available_capacity:int = None\n",
    "    min_age_limit:int = None\n",
    "    vaccine:str = None\n",
    "    center_id:str = None\n",
    "    district_id:str = None\n",
    "    session_created_at: datetime = field(default_factory=datetime.now)\n",
    "        \n",
    "@dataclass\n",
    "class Center:\n",
    "    center_uuid:str = None\n",
    "    center_id:int = None\n",
    "    center_name:str = None\n",
    "    state_name:str = None\n",
    "    district_name:str = None\n",
    "    block_name:str = None\n",
    "    pincode:str = None\n",
    "    lat:int = None\n",
    "    lng:int = None\n",
    "    from_hour:datetime = None\n",
    "    to_hour:datetime = None\n",
    "    fee_type:str = None\n",
    "    district_id:str = None\n",
    "    center_created_at: datetime = field(default_factory=datetime.now)\n",
    "\n",
    "@dataclass\n",
    "class NoSlotAvailable:\n",
    "    district_id:str = None\n",
    "    date:datetime = None\n",
    "    no_slot_available_created_at: datetime = field(default_factory=datetime.now)"
   ]
  },
  {
   "cell_type": "markdown",
   "id": "17da0fae",
   "metadata": {},
   "source": [
    "Lets call the API to get the populate geographical data"
   ]
  },
  {
   "cell_type": "code",
   "execution_count": null,
   "id": "621d1474",
   "metadata": {},
   "outputs": [],
   "source": [
    "MOZILLA_HEADER = 'Mozilla/5.0 (Macintosh; Intel Mac OS X 10_10_1) AppleWebKit/537.36 (KHTML, like Gecko) Chrome/39.0.2171.95 Safari/537.36'\n",
    "GET_DISTRICT_DATA_API_URL = \"https://cdn-api.co-vin.in/api/v2/admin/location/districts/{}\"\n",
    "GET_APOINTMENT_DATA_API_URL = \"https://cdn-api.co-vin.in/api/v2/appointment/sessions/public/calendarByDistrict?district_id={}&date={}\"\n",
    "\n",
    "DISTRICTS = defaultdict(District)\n",
    "CENTERS = defaultdict(Center)\n",
    "SESSIONS = defaultdict(Session)\n",
    "NO_SLOT_AVAILABLE = []\n",
    "\n",
    "MAX_NUMBER_OF_STATES = 40\n",
    "\n",
    "for state_code in range(1, MAX_NUMBER_OF_STATES):\n",
    "    headers = {'User-Agent': MOZILLA_HEADER}\n",
    "    response = requests.get(GET_DISTRICT_DATA_API_URL.format(state_code), headers=headers)\n",
    "    districts_data = json.loads(response.content)\n",
    "    for district in districts_data['districts']:\n",
    "        district_name = district['district_name']\n",
    "        district_id = district['district_id']\n",
    "        district = District(district_name = district_name, district_id = district_id , state_id=state_code) \n",
    "        DISTRICTS[district_id] = district"
   ]
  },
  {
   "cell_type": "code",
   "execution_count": null,
   "id": "da17b684",
   "metadata": {},
   "outputs": [],
   "source": [
    "DISTRICT_DF = pd.DataFrame.from_dict([asdict(district) for district in DISTRICTS.values()])"
   ]
  },
  {
   "cell_type": "markdown",
   "id": "f3bcbf40",
   "metadata": {},
   "source": [
    "Lets now call actual api to get slots "
   ]
  },
  {
   "cell_type": "code",
   "execution_count": null,
   "id": "db1bbbb0",
   "metadata": {},
   "outputs": [],
   "source": [
    "#hide_output\n",
    "MAX_DAYS = 7\n",
    "\n",
    "#This step takes loads of time\n",
    "def get_days_in_future_from_today():\n",
    "    base = datetime.today()\n",
    "    date_list = [base + datetime.timedelta(days=x) for x in range(MAX_DAYS)]\n",
    "    return [x.strftime(\"%d-%m-%Y\") for x in date_list]\n",
    "\n",
    "for district_id in DISTRICTS.keys():\n",
    "    print(\"District {}\".format(district_id))\n",
    "    for slot_date in get_data_fiften_days_in_future_from_today():\n",
    "        URL = GET_APOINTMENT_DATA_API_URL.format(district_id, slot_date)\n",
    "        response = requests.get(URL)\n",
    "        if response.ok:\n",
    "            resp_json = response.json()\n",
    "            if resp_json[\"centers\"]:\n",
    "                for center in resp_json[\"centers\"]:\n",
    "                    center_uuid = str(uuid.uuid4())\n",
    "                    center_id = center[\"center_id\"]\n",
    "                    center_name = center[\"name\"]\n",
    "                    CENTERS[center_uuid] = Center(center_uuid=center_uuid,\n",
    "                                                center_id=center_id,\n",
    "                                                center_name=center_name,\n",
    "                                                lat=center[\"lat\"],\n",
    "                                                lng=center[\"long\"],\n",
    "                                                from_hour=center[\"from\"],\n",
    "                                                to_hour=center[\"to\"],\n",
    "                                                district_id=district_id,\n",
    "                                                state_name=center[\"state_name\"],\n",
    "                                                district_name=center[\"district_name\"],\n",
    "                                                block_name=center[\"block_name\"],\n",
    "                                                pincode=center[\"pincode\"],\n",
    "                                                fee_type=center[\"fee_type\"])\n",
    "                    for session in center[\"sessions\"]:\n",
    "                        session_id = session[\"session_id\"]\n",
    "                        SESSIONS[session_id] = Session(session_uuid=session_id,\n",
    "                                                       date=session[\"date\"],\n",
    "                                                       query_date=slot_date,\n",
    "                                                       available_capacity=session[\"available_capacity\"],\n",
    "                                                       min_age_limit=session[\"min_age_limit\"],\n",
    "                                                       vaccine=session[\"vaccine\"],\n",
    "                                                       district_id=district_id,\n",
    "                                                       center_id=center_id)\n",
    "            else:\n",
    "                NO_SLOT_AVAILABLE.append(NoSlotAvailable(district_id=district_id, date=slot_date))\n",
    "#                 print(\"No slot on {} in district {}\".format(slot_date, district_id))"
   ]
  },
  {
   "cell_type": "code",
   "execution_count": null,
   "id": "5cb4b025",
   "metadata": {},
   "outputs": [],
   "source": [
    "CENTER_DF = pd.DataFrame.from_dict([asdict(district) for district in CENTERS.values()])\n",
    "SESSION_DF = pd.DataFrame.from_dict([asdict(session) for session in SESSIONS.values()])\n",
    "NO_SLOT_AVAILABLE_DF = pd.DataFrame.from_dict([asdict(no_slot_available) for no_slot_available in NO_SLOT_AVAILABLE])"
   ]
  },
  {
   "cell_type": "code",
   "execution_count": null,
   "id": "27471fc6",
   "metadata": {},
   "outputs": [],
   "source": [
    "NO_SLOT_AVAILABLE_DF.head()"
   ]
  },
  {
   "cell_type": "code",
   "execution_count": null,
   "id": "de5b3b7c",
   "metadata": {},
   "outputs": [],
   "source": [
    "SESSION_DF.head()"
   ]
  },
  {
   "cell_type": "code",
   "execution_count": null,
   "id": "f0324089",
   "metadata": {},
   "outputs": [],
   "source": [
    "CENTER_DF.head()"
   ]
  },
  {
   "cell_type": "code",
   "execution_count": null,
   "id": "ccb092df",
   "metadata": {},
   "outputs": [],
   "source": [
    "DISTRICT_DF.head()"
   ]
  },
  {
   "cell_type": "code",
   "execution_count": null,
   "id": "a7cb13bb",
   "metadata": {},
   "outputs": [],
   "source": [
    "session_center_merged_df = pd.merge(SESSION_DF, CENTER_DF, on=\"center_id\")\n",
    "session_center_district_df = pd.merge(session_center_merged_df, DISTRICT_DF, left_on='district_id_x', right_on=\"district_id\")"
   ]
  },
  {
   "cell_type": "code",
   "execution_count": null,
   "id": "0bf86f03",
   "metadata": {},
   "outputs": [],
   "source": [
    "session_center_district_df.to_csv(\"vaccination_slot_data.csv\")\n",
    "session_center_district_df"
   ]
  },
  {
   "cell_type": "code",
   "execution_count": null,
   "id": "53e88f45",
   "metadata": {},
   "outputs": [],
   "source": [
    "# Top 5 States Running ahead of everyone else.\n",
    "session_center_district_df[['date', 'state_name']].groupby('state_name').apply(lambda x : x.sort_values(by = 'date', ascending = True).head(3).reset_index(drop = True))"
   ]
  },
  {
   "cell_type": "code",
   "execution_count": null,
   "id": "ee2b8d7c",
   "metadata": {
    "scrolled": true
   },
   "outputs": [],
   "source": [
    "session_center_district_df\\\n",
    "    [['date', 'state_name']]\\\n",
    "    .groupby('state_name')\\\n",
    "    .apply(lambda x : x.sort_values(by = 'date', ascending = True)\\\n",
    "    .head(1)\\\n",
    "    .reset_index(drop = True)).head(40)"
   ]
  },
  {
   "cell_type": "code",
   "execution_count": null,
   "id": "9f2e57b8",
   "metadata": {},
   "outputs": [],
   "source": [
    "session_center_district_df\\\n",
    "    [session_center_district_df[\"min_age_limit\"]<45]\\\n",
    "    [session_center_district_df[\"fee_type\"]==\"Free\"]\\\n",
    "    [['date', 'state_name']]\\\n",
    "    .groupby('state_name')\\\n",
    "    .apply(lambda x : x.sort_values(by = 'date', ascending = True)\\\n",
    "    .head(1)\\\n",
    "    .reset_index(drop = True)).head(40)"
   ]
  },
  {
   "cell_type": "code",
   "execution_count": null,
   "id": "0b58623a",
   "metadata": {},
   "outputs": [],
   "source": [
    "session_center_district_df.drop_duplicates([\"date\",\"state_id\"]).groupby(\"state_id\").apply(lambda x : x.sort_values(by = 'date', ascending = True).head(1).reset_index(drop = True)).head(40)"
   ]
  },
  {
   "cell_type": "code",
   "execution_count": null,
   "id": "28db1a63",
   "metadata": {},
   "outputs": [],
   "source": [
    "session_center_district_df"
   ]
  }
 ],
 "metadata": {
  "kernelspec": {
   "display_name": "Python 3",
   "language": "python",
   "name": "python3"
  },
  "language_info": {
   "codemirror_mode": {
    "name": "ipython",
    "version": 3
   },
   "file_extension": ".py",
   "mimetype": "text/x-python",
   "name": "python",
   "nbconvert_exporter": "python",
   "pygments_lexer": "ipython3",
   "version": "3.8.2"
  }
 },
 "nbformat": 4,
 "nbformat_minor": 5
}
