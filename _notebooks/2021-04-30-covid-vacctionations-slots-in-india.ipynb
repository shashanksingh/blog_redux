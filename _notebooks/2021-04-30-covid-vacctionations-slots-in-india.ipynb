{
 "cells": [
  {
   "cell_type": "markdown",
   "id": "f0b191d2",
   "metadata": {},
   "source": [
    "# Covid vs India\n",
    "One of the biggest question I have been wondering is , with every adult allowed now to register, Where are vaccines slots available in india ? How can I make this decision programmitcally because trying to find information on government website is rather \"sisyphus task\".\n",
    "\n",
    "So with rather self involed goal in mind, We would using publicly avaialbe data try to answer following questions\n",
    "\n",
    "1. Latest vaccine slots per district and State in India\n",
    "2. Top 5 States Running behind on schedule\n",
    "3. Top 5 States Running ahead of everyone else.\n",
    "4. When can I latest find slots in Delhi, Bombay, Chennai and Bangalore.\n"
   ]
  },
  {
   "cell_type": "code",
   "execution_count": null,
   "id": "7f3e0d3c",
   "metadata": {},
   "outputs": [],
   "source": []
  }
 ],
 "metadata": {
  "kernelspec": {
   "display_name": "Python 3",
   "language": "python",
   "name": "python3"
  },
  "language_info": {
   "codemirror_mode": {
    "name": "ipython",
    "version": 3
   },
   "file_extension": ".py",
   "mimetype": "text/x-python",
   "name": "python",
   "nbconvert_exporter": "python",
   "pygments_lexer": "ipython3",
   "version": "3.8.2"
  }
 },
 "nbformat": 4,
 "nbformat_minor": 5
}
