{
 "cells": [
  {
   "cell_type": "markdown",
   "id": "e4c32caf",
   "metadata": {},
   "source": [
    "# Covid vs India\n",
    "One of the biggest question I have been wondering is , with every adult allowed now to register, Where are vaccines slots available in india ? How can I make this decision programmitcally because trying to find information on government website is rather \"sisyphus task\".\n",
    "\n",
    "So with rather self involed goal in mind, We would using publicly avaialbe data try to answer following questions\n",
    "\n",
    "1. Latest vaccine slots per district and State in India\n",
    "2. Top 5 States Running behind on schedule\n",
    "3. Top 5 States Running ahead of everyone else.\n",
    "4. When can I latest find slots in Delhi, Bombay, Chennai and Bangalore.\n",
    "\n",
    "- toc: false\n",
    "- branch: master\n",
    "- badges: false,\n",
    "- comments: true,\n",
    "- categories: [vaccine, covid, jupyter, python],\n",
    "- image: images/statistics.png,\n",
    "- hide: false\n"
   ]
  },
  {
   "cell_type": "code",
   "execution_count": 9,
   "id": "db9f0631",
   "metadata": {
    "scrolled": true
   },
   "outputs": [
    {
     "name": "stdout",
     "output_type": "stream",
     "text": [
      "Collecting install\n",
      "  Downloading https://files.pythonhosted.org/packages/f0/a5/fd2eb807a9a593869ee8b7a6bcb4ad84a6eb31cef5c24d1bfbf7c938c13f/install-1.3.4-py3-none-any.whl\n",
      "Requirement already satisfied: requests in /Users/saimeerashanawas/Library/Python/3.8/lib/python/site-packages (2.25.1)\n",
      "Requirement already satisfied: urllib3<1.27,>=1.21.1 in /Users/saimeerashanawas/Library/Python/3.8/lib/python/site-packages (from requests) (1.26.4)\n",
      "Requirement already satisfied: chardet<5,>=3.0.2 in /Users/saimeerashanawas/Library/Python/3.8/lib/python/site-packages (from requests) (4.0.0)\n",
      "Requirement already satisfied: idna<3,>=2.5 in /Users/saimeerashanawas/Library/Python/3.8/lib/python/site-packages (from requests) (2.10)\n",
      "Requirement already satisfied: certifi>=2017.4.17 in /Users/saimeerashanawas/Library/Python/3.8/lib/python/site-packages (from requests) (2020.12.5)\n",
      "Installing collected packages: install\n",
      "Successfully installed install-1.3.4\n",
      "\u001b[33mWARNING: You are using pip version 19.2.3, however version 21.1 is available.\n",
      "You should consider upgrading via the 'pip install --upgrade pip' command.\u001b[0m\n",
      "Requirement already satisfied: install in /Users/saimeerashanawas/Library/Python/3.8/lib/python/site-packages (1.3.4)\n",
      "Collecting altair\n",
      "  Using cached https://files.pythonhosted.org/packages/01/55/0bb2226e34f21fa549c3f4557b4f154a5632f61132a969da17c95ca8eab9/altair-4.1.0-py3-none-any.whl\n",
      "Collecting numpy (from altair)\n",
      "\u001b[?25l  Downloading https://files.pythonhosted.org/packages/af/61/aac213b70a1d719364a2a2e0e0627dba8b15565576ac82cc3ad044fdbd74/numpy-1.20.2-cp38-cp38-macosx_10_9_x86_64.whl (16.0MB)\n",
      "\u001b[K     |████████████████████████████████| 16.0MB 2.0MB/s eta 0:00:01    |████▉                           | 2.4MB 3.0MB/s eta 0:00:05\n",
      "\u001b[?25hCollecting toolz (from altair)\n",
      "  Using cached https://files.pythonhosted.org/packages/12/f5/537e55f8ba664ff2a26f26913010fb0fcb98b6bbadc6158af888184fd0b7/toolz-0.11.1-py3-none-any.whl\n",
      "Collecting pandas>=0.18 (from altair)\n",
      "\u001b[?25l  Downloading https://files.pythonhosted.org/packages/d6/66/35235bc1d1ebc34d807c100c4b54a13660695f18c2fb29d2192ebbb5a613/pandas-1.2.4-cp38-cp38-macosx_10_9_x86_64.whl (10.5MB)\n",
      "\u001b[K     |████████████████████████████████| 10.5MB 6.5MB/s eta 0:00:01    |███████████████████████▊        | 7.8MB 2.5MB/s eta 0:00:02\n",
      "\u001b[?25hRequirement already satisfied: jsonschema in /Users/saimeerashanawas/Library/Python/3.8/lib/python/site-packages (from altair) (3.2.0)\n",
      "Requirement already satisfied: jinja2 in /Users/saimeerashanawas/Library/Python/3.8/lib/python/site-packages (from altair) (2.11.3)\n",
      "Requirement already satisfied: entrypoints in /Users/saimeerashanawas/Library/Python/3.8/lib/python/site-packages (from altair) (0.3)\n",
      "Requirement already satisfied: pytz>=2017.3 in /Users/saimeerashanawas/Library/Python/3.8/lib/python/site-packages (from pandas>=0.18->altair) (2021.1)\n",
      "Requirement already satisfied: python-dateutil>=2.7.3 in /Users/saimeerashanawas/Library/Python/3.8/lib/python/site-packages (from pandas>=0.18->altair) (2.8.1)\n",
      "Requirement already satisfied: attrs>=17.4.0 in /Users/saimeerashanawas/Library/Python/3.8/lib/python/site-packages (from jsonschema->altair) (20.3.0)\n",
      "Requirement already satisfied: pyrsistent>=0.14.0 in /Users/saimeerashanawas/Library/Python/3.8/lib/python/site-packages (from jsonschema->altair) (0.17.3)\n",
      "Requirement already satisfied: six>=1.11.0 in /Library/Developer/CommandLineTools/Library/Frameworks/Python3.framework/Versions/3.8/lib/python3.8/site-packages (from jsonschema->altair) (1.15.0)\n",
      "Requirement already satisfied: setuptools in /Library/Developer/CommandLineTools/Library/Frameworks/Python3.framework/Versions/3.8/lib/python3.8/site-packages (from jsonschema->altair) (41.2.0)\n",
      "Requirement already satisfied: MarkupSafe>=0.23 in /Users/saimeerashanawas/Library/Python/3.8/lib/python/site-packages (from jinja2->altair) (1.1.1)\n",
      "Installing collected packages: numpy, toolz, pandas, altair\n",
      "\u001b[33m  WARNING: The scripts f2py, f2py3 and f2py3.8 are installed in '/Users/saimeerashanawas/Library/Python/3.8/bin' which is not on PATH.\n",
      "  Consider adding this directory to PATH or, if you prefer to suppress this warning, use --no-warn-script-location.\u001b[0m\n",
      "Successfully installed altair-4.1.0 numpy-1.20.2 pandas-1.2.4 toolz-0.11.1\n",
      "\u001b[33mWARNING: You are using pip version 19.2.3, however version 21.1 is available.\n",
      "You should consider upgrading via the 'pip install --upgrade pip' command.\u001b[0m\n",
      "Requirement already satisfied: install in /Users/saimeerashanawas/Library/Python/3.8/lib/python/site-packages (1.3.4)\n",
      "Requirement already satisfied: pandas in /Users/saimeerashanawas/Library/Python/3.8/lib/python/site-packages (1.2.4)\n",
      "Requirement already satisfied: numpy>=1.16.5 in /Users/saimeerashanawas/Library/Python/3.8/lib/python/site-packages (from pandas) (1.20.2)\n",
      "Requirement already satisfied: python-dateutil>=2.7.3 in /Users/saimeerashanawas/Library/Python/3.8/lib/python/site-packages (from pandas) (2.8.1)\n",
      "Requirement already satisfied: pytz>=2017.3 in /Users/saimeerashanawas/Library/Python/3.8/lib/python/site-packages (from pandas) (2021.1)\n",
      "Requirement already satisfied: six>=1.5 in /Library/Developer/CommandLineTools/Library/Frameworks/Python3.framework/Versions/3.8/lib/python3.8/site-packages (from python-dateutil>=2.7.3->pandas) (1.15.0)\n",
      "\u001b[33mWARNING: You are using pip version 19.2.3, however version 21.1 is available.\n",
      "You should consider upgrading via the 'pip install --upgrade pip' command.\u001b[0m\n",
      "Requirement already satisfied: install in /Users/saimeerashanawas/Library/Python/3.8/lib/python/site-packages (1.3.4)\n",
      "Collecting geopandas\n",
      "  Using cached https://files.pythonhosted.org/packages/d7/bf/e9cefb69d39155d122b6ddca53893b61535fa6ffdad70bf5ef708977f53f/geopandas-0.9.0-py2.py3-none-any.whl\n",
      "Collecting pyproj>=2.2.0 (from geopandas)\n",
      "\u001b[?25l  Downloading https://files.pythonhosted.org/packages/d9/db/e0873b09e4acd4032a876b6103a6e4991cdedacfcea1efedf8f1f53c63c5/pyproj-3.0.1-cp38-cp38-macosx_10_9_x86_64.whl (7.5MB)\n",
      "\u001b[K     |████████████████████████████████| 7.5MB 3.8MB/s eta 0:00:01\n",
      "\u001b[?25hRequirement already satisfied: pandas>=0.24.0 in /Users/saimeerashanawas/Library/Python/3.8/lib/python/site-packages (from geopandas) (1.2.4)\n",
      "Collecting fiona>=1.8 (from geopandas)\n",
      "\u001b[?25l  Downloading https://files.pythonhosted.org/packages/db/bb/1a3f687bf392cf28e1223eb5bece0a4a56de2dce69719df2f4b6cfb7fa0b/Fiona-1.8.19-cp38-cp38-macosx_10_9_x86_64.whl (19.3MB)\n",
      "\u001b[K     |████████████████████████████████| 19.3MB 3.5MB/s eta 0:00:01     |█████████████████████▎          | 12.8MB 5.3MB/s eta 0:00:02     |█████████████████████▊          | 13.1MB 5.3MB/s eta 0:00:02     |█████████████████████▉          | 13.2MB 5.3MB/s eta 0:00:02     |███████████████████████▋        | 14.2MB 5.3MB/s eta 0:00:01     |██████████████████████████████▋ | 18.4MB 3.7MB/s eta 0:00:01\n",
      "\u001b[?25hCollecting shapely>=1.6 (from geopandas)\n",
      "\u001b[?25l  Downloading https://files.pythonhosted.org/packages/76/79/a7bffb8eadfdfc98a7d87746e0e4e1043f3c43207e11888154236f8f76ca/Shapely-1.7.1-cp38-cp38-macosx_10_9_x86_64.whl (1.0MB)\n",
      "\u001b[K     |████████████████████████████████| 1.0MB 5.3MB/s eta 0:00:01\n",
      "\u001b[?25hRequirement already satisfied: certifi in /Users/saimeerashanawas/Library/Python/3.8/lib/python/site-packages (from pyproj>=2.2.0->geopandas) (2020.12.5)\n",
      "Requirement already satisfied: numpy>=1.16.5 in /Users/saimeerashanawas/Library/Python/3.8/lib/python/site-packages (from pandas>=0.24.0->geopandas) (1.20.2)\n",
      "Requirement already satisfied: python-dateutil>=2.7.3 in /Users/saimeerashanawas/Library/Python/3.8/lib/python/site-packages (from pandas>=0.24.0->geopandas) (2.8.1)\n",
      "Requirement already satisfied: pytz>=2017.3 in /Users/saimeerashanawas/Library/Python/3.8/lib/python/site-packages (from pandas>=0.24.0->geopandas) (2021.1)\n",
      "Requirement already satisfied: six>=1.7 in /Library/Developer/CommandLineTools/Library/Frameworks/Python3.framework/Versions/3.8/lib/python3.8/site-packages (from fiona>=1.8->geopandas) (1.15.0)\n",
      "Requirement already satisfied: click<8,>=4.0 in /Users/saimeerashanawas/Library/Python/3.8/lib/python/site-packages (from fiona>=1.8->geopandas) (7.1.2)\n",
      "Requirement already satisfied: attrs>=17 in /Users/saimeerashanawas/Library/Python/3.8/lib/python/site-packages (from fiona>=1.8->geopandas) (20.3.0)\n"
     ]
    },
    {
     "name": "stdout",
     "output_type": "stream",
     "text": [
      "Collecting munch (from fiona>=1.8->geopandas)\n",
      "  Using cached https://files.pythonhosted.org/packages/cc/ab/85d8da5c9a45e072301beb37ad7f833cd344e04c817d97e0cc75681d248f/munch-2.5.0-py2.py3-none-any.whl\n",
      "Collecting click-plugins>=1.0 (from fiona>=1.8->geopandas)\n",
      "  Using cached https://files.pythonhosted.org/packages/e9/da/824b92d9942f4e472702488857914bdd50f73021efea15b4cad9aca8ecef/click_plugins-1.1.1-py2.py3-none-any.whl\n",
      "Collecting cligj>=0.5 (from fiona>=1.8->geopandas)\n",
      "  Using cached https://files.pythonhosted.org/packages/42/1e/947eadf10d6804bf276eb8a038bd5307996dceaaa41cfd21b7a15ec62f5d/cligj-0.7.1-py3-none-any.whl\n",
      "Installing collected packages: pyproj, munch, click-plugins, cligj, fiona, shapely, geopandas\n",
      "\u001b[33m  WARNING: The script pyproj is installed in '/Users/saimeerashanawas/Library/Python/3.8/bin' which is not on PATH.\n",
      "  Consider adding this directory to PATH or, if you prefer to suppress this warning, use --no-warn-script-location.\u001b[0m\n",
      "\u001b[33m  WARNING: The script fio is installed in '/Users/saimeerashanawas/Library/Python/3.8/bin' which is not on PATH.\n",
      "  Consider adding this directory to PATH or, if you prefer to suppress this warning, use --no-warn-script-location.\u001b[0m\n",
      "Successfully installed click-plugins-1.1.1 cligj-0.7.1 fiona-1.8.19 geopandas-0.9.0 munch-2.5.0 pyproj-3.0.1 shapely-1.7.1\n",
      "\u001b[33mWARNING: You are using pip version 19.2.3, however version 21.1 is available.\n",
      "You should consider upgrading via the 'pip install --upgrade pip' command.\u001b[0m\n"
     ]
    }
   ],
   "source": [
    "!{sys.executable} -m pip install --user install requests\n",
    "!{sys.executable} -m pip install --user install altair\n",
    "!{sys.executable} -m pip install --user install pandas\n",
    "!{sys.executable} -m pip install --user install geopandas\n",
    "#hide"
   ]
  },
  {
   "cell_type": "markdown",
   "id": "bf518408",
   "metadata": {},
   "source": [
    "Get All libraries in place"
   ]
  },
  {
   "cell_type": "code",
   "execution_count": 10,
   "id": "aa196a49",
   "metadata": {},
   "outputs": [],
   "source": [
    "import geopandas as gpd\n",
    "import pandas as pd\n",
    "import requests\n",
    "import json\n",
    "from collections import defaultdict\n",
    "from dataclasses import dataclass"
   ]
  },
  {
   "cell_type": "markdown",
   "id": "79d85b16",
   "metadata": {},
   "source": [
    "Lets make a data class to store our geographical data"
   ]
  },
  {
   "cell_type": "code",
   "execution_count": 11,
   "id": "f5fb8984",
   "metadata": {},
   "outputs": [],
   "source": [
    "@dataclass\n",
    "class District:\n",
    "    name:str\n",
    "    id:str\n",
    "    state_id:int"
   ]
  },
  {
   "cell_type": "markdown",
   "id": "17da0fae",
   "metadata": {},
   "source": [
    "Lets call the API to get the data"
   ]
  },
  {
   "cell_type": "code",
   "execution_count": 15,
   "id": "dac526bf",
   "metadata": {},
   "outputs": [
    {
     "name": "stdout",
     "output_type": "stream",
     "text": [
      "defaultdict(<class 'list'>, {1: [District(name='Nicobar', id=3, state_id=1), District(name='North and Middle Andaman', id=1, state_id=1), District(name='South Andaman', id=2, state_id=1)], 2: [District(name='Anantapur', id=9, state_id=1), District(name='Chittoor', id=10, state_id=1), District(name='East Godavari', id=11, state_id=1), District(name='Guntur', id=5, state_id=1), District(name='Krishna', id=4, state_id=1), District(name='Kurnool', id=7, state_id=1), District(name='Prakasam', id=12, state_id=1), District(name='Sri Potti Sriramulu Nellore', id=13, state_id=1), District(name='Srikakulam', id=14, state_id=1), District(name='Visakhapatnam', id=8, state_id=1), District(name='Vizianagaram', id=15, state_id=1), District(name='West Godavari', id=16, state_id=1), District(name='YSR District, Kadapa (Cuddapah)', id=6, state_id=1)], 3: [District(name='Anjaw', id=22, state_id=1), District(name='Changlang', id=20, state_id=1), District(name='Dibang Valley', id=25, state_id=1), District(name='East Kameng', id=23, state_id=1), District(name='East Siang', id=42, state_id=1), District(name='Itanagar Capital Complex', id=17, state_id=1), District(name='Kamle', id=24, state_id=1), District(name='Kra Daadi', id=27, state_id=1), District(name='Kurung Kumey', id=21, state_id=1), District(name='Lepa Rada', id=33, state_id=1), District(name='Lohit', id=29, state_id=1), District(name='Longding', id=40, state_id=1), District(name='Lower Dibang Valley', id=31, state_id=1), District(name='Lower Siang', id=18, state_id=1), District(name='Lower Subansiri', id=32, state_id=1), District(name='Namsai', id=36, state_id=1), District(name='Pakke Kessang', id=19, state_id=1), District(name='Papum Pare', id=39, state_id=1), District(name='Shi Yomi', id=35, state_id=1), District(name='Siang', id=37, state_id=1), District(name='Tawang', id=30, state_id=1), District(name='Tirap', id=26, state_id=1), District(name='Upper Siang', id=34, state_id=1), District(name='Upper Subansiri', id=41, state_id=1), District(name='West Kameng', id=28, state_id=1), District(name='West Siang', id=38, state_id=1)], 4: [District(name='Baksa', id=46, state_id=1), District(name='Barpeta', id=47, state_id=1), District(name='Biswanath', id=765, state_id=1), District(name='Bongaigaon', id=57, state_id=1), District(name='Cachar', id=66, state_id=1), District(name='Charaideo', id=766, state_id=1), District(name='Chirang', id=58, state_id=1), District(name='Darrang', id=48, state_id=1), District(name='Dhemaji', id=62, state_id=1), District(name='Dhubri', id=59, state_id=1), District(name='Dibrugarh', id=43, state_id=1), District(name='Dima Hasao', id=67, state_id=1), District(name='Goalpara', id=60, state_id=1), District(name='Golaghat', id=53, state_id=1), District(name='Hailakandi', id=68, state_id=1), District(name='Hojai', id=764, state_id=1), District(name='Jorhat', id=54, state_id=1), District(name='Kamrup Metropolitan', id=49, state_id=1), District(name='Kamrup Rural', id=50, state_id=1), District(name='Karbi-Anglong', id=51, state_id=1), District(name='Karimganj', id=69, state_id=1), District(name='Kokrajhar', id=61, state_id=1), District(name='Lakhimpur', id=63, state_id=1), District(name='Majuli', id=767, state_id=1), District(name='Morigaon', id=55, state_id=1), District(name='Nagaon', id=56, state_id=1), District(name='Nalbari', id=52, state_id=1), District(name='Sivasagar', id=44, state_id=1), District(name='Sonitpur', id=64, state_id=1), District(name='South Salmara Mankachar', id=768, state_id=1), District(name='Tinsukia', id=45, state_id=1), District(name='Udalguri', id=65, state_id=1), District(name='West Karbi Anglong', id=769, state_id=1)], 5: [District(name='Araria', id=74, state_id=1), District(name='Arwal', id=78, state_id=1), District(name='Aurangabad', id=77, state_id=1), District(name='Banka', id=83, state_id=1), District(name='Begusarai', id=98, state_id=1), District(name='Bhagalpur', id=82, state_id=1), District(name='Bhojpur', id=99, state_id=1), District(name='Buxar', id=100, state_id=1), District(name='Darbhanga', id=94, state_id=1), District(name='East Champaran', id=105, state_id=1), District(name='Gaya', id=79, state_id=1), District(name='Gopalganj', id=104, state_id=1), District(name='Jamui', id=107, state_id=1), District(name='Jehanabad', id=91, state_id=1), District(name='Kaimur', id=80, state_id=1), District(name='Katihar', id=75, state_id=1), District(name='Khagaria', id=101, state_id=1), District(name='Kishanganj', id=76, state_id=1), District(name='Lakhisarai', id=84, state_id=1), District(name='Madhepura', id=70, state_id=1), District(name='Madhubani', id=95, state_id=1), District(name='Munger', id=85, state_id=1), District(name='Muzaffarpur', id=86, state_id=1), District(name='Nalanda', id=90, state_id=1), District(name='Nawada', id=92, state_id=1), District(name='Patna', id=97, state_id=1), District(name='Purnia', id=73, state_id=1), District(name='Rohtas', id=81, state_id=1), District(name='Saharsa', id=71, state_id=1), District(name='Samastipur', id=96, state_id=1), District(name='Saran', id=102, state_id=1), District(name='Sheikhpura', id=93, state_id=1), District(name='Sheohar', id=87, state_id=1), District(name='Sitamarhi', id=88, state_id=1), District(name='Siwan', id=103, state_id=1), District(name='Supaul', id=72, state_id=1), District(name='Vaishali', id=89, state_id=1), District(name='West Champaran', id=106, state_id=1)], 6: [District(name='Chandigarh', id=108, state_id=1)], 7: [District(name='Balod', id=110, state_id=1), District(name='Baloda bazar', id=111, state_id=1), District(name='Balrampur', id=112, state_id=1), District(name='Bastar', id=113, state_id=1), District(name='Bemetara', id=114, state_id=1), District(name='Bijapur', id=115, state_id=1), District(name='Bilaspur', id=116, state_id=1), District(name='Dantewada', id=117, state_id=1), District(name='Dhamtari', id=118, state_id=1), District(name='Durg', id=119, state_id=1), District(name='Gariaband', id=120, state_id=1), District(name='Gaurela Pendra Marwahi ', id=136, state_id=1), District(name='Janjgir-Champa', id=121, state_id=1), District(name='Jashpur', id=122, state_id=1), District(name='Kanker', id=123, state_id=1), District(name='Kawardha', id=135, state_id=1), District(name='Kondagaon', id=124, state_id=1), District(name='Korba', id=125, state_id=1), District(name='Koriya', id=126, state_id=1), District(name='Mahasamund', id=127, state_id=1), District(name='Mungeli', id=128, state_id=1), District(name='Narayanpur', id=129, state_id=1), District(name='Raigarh', id=130, state_id=1), District(name='Raipur', id=109, state_id=1), District(name='Rajnandgaon', id=131, state_id=1), District(name='Sukma', id=132, state_id=1), District(name='Surajpur', id=133, state_id=1), District(name='Surguja', id=134, state_id=1)], 8: [District(name='Dadra and Nagar Haveli', id=137, state_id=1)], 9: [District(name='Central Delhi', id=141, state_id=1), District(name='East Delhi', id=145, state_id=1), District(name='New Delhi', id=140, state_id=1), District(name='North Delhi', id=146, state_id=1), District(name='North East Delhi', id=147, state_id=1), District(name='North West Delhi', id=143, state_id=1), District(name='Shahdara', id=148, state_id=1), District(name='South Delhi', id=149, state_id=1), District(name='South East Delhi', id=144, state_id=1), District(name='South West Delhi', id=150, state_id=1), District(name='West Delhi', id=142, state_id=1)], 10: [District(name='North Goa', id=151, state_id=1), District(name='South Goa', id=152, state_id=1)], 11: [District(name='Ahmedabad', id=154, state_id=1), District(name='Ahmedabad Corporation', id=770, state_id=1), District(name='Amreli', id=174, state_id=1), District(name='Anand', id=179, state_id=1), District(name='Aravalli', id=158, state_id=1), District(name='Banaskantha', id=159, state_id=1), District(name='Bharuch', id=180, state_id=1), District(name='Bhavnagar', id=175, state_id=1), District(name='Bhavnagar Corporation', id=771, state_id=1), District(name='Botad', id=176, state_id=1), District(name='Chhotaudepur', id=181, state_id=1), District(name='Dahod', id=182, state_id=1), District(name='Dang', id=163, state_id=1), District(name='Devbhumi Dwaraka', id=168, state_id=1), District(name='Gandhinagar', id=153, state_id=1), District(name='Gandhinagar Corporation', id=772, state_id=1), District(name='Gir Somnath', id=177, state_id=1), District(name='Jamnagar', id=169, state_id=1), District(name='Jamnagar Corporation', id=773, state_id=1), District(name='Junagadh', id=178, state_id=1), District(name='Junagadh Corporation', id=774, state_id=1), District(name='Kheda', id=156, state_id=1), District(name='Kutch', id=170, state_id=1), District(name='Mahisagar', id=183, state_id=1), District(name='Mehsana', id=160, state_id=1), District(name='Morbi', id=171, state_id=1), District(name='Narmada', id=184, state_id=1), District(name='Navsari', id=164, state_id=1), District(name='Panchmahal', id=185, state_id=1), District(name='Patan', id=161, state_id=1), District(name='Porbandar', id=172, state_id=1), District(name='Rajkot', id=173, state_id=1), District(name='Rajkot Corporation', id=775, state_id=1), District(name='Sabarkantha', id=162, state_id=1), District(name='Surat', id=165, state_id=1), District(name='Surat Corporation', id=776, state_id=1), District(name='Surendranagar', id=157, state_id=1), District(name='Tapi', id=166, state_id=1), District(name='Vadodara', id=155, state_id=1), District(name='Vadodara Corporation', id=777, state_id=1), District(name='Valsad', id=167, state_id=1)], 12: [District(name='Ambala', id=193, state_id=1), District(name='Bhiwani', id=200, state_id=1), District(name='Charkhi Dadri', id=201, state_id=1), District(name='Faridabad', id=199, state_id=1), District(name='Fatehabad', id=196, state_id=1), District(name='Gurgaon', id=188, state_id=1), District(name='Hisar', id=191, state_id=1), District(name='Jhajjar', id=189, state_id=1), District(name='Jind', id=204, state_id=1), District(name='Kaithal', id=190, state_id=1), District(name='Karnal', id=203, state_id=1), District(name='Kurukshetra', id=186, state_id=1), District(name='Mahendragarh', id=206, state_id=1), District(name='Nuh', id=205, state_id=1), District(name='Palwal', id=207, state_id=1), District(name='Panchkula', id=187, state_id=1), District(name='Panipat', id=195, state_id=1), District(name='Rewari', id=202, state_id=1), District(name='Rohtak', id=192, state_id=1), District(name='Sirsa', id=194, state_id=1), District(name='Sonipat', id=198, state_id=1), District(name='Yamunanagar', id=197, state_id=1)], 13: [District(name='Bilaspur', id=219, state_id=1), District(name='Chamba', id=214, state_id=1), District(name='Hamirpur', id=217, state_id=1), District(name='Kangra', id=213, state_id=1), District(name='Kinnaur', id=216, state_id=1), District(name='Kullu', id=211, state_id=1), District(name='Lahaul Spiti', id=210, state_id=1), District(name='Mandi', id=215, state_id=1), District(name='Shimla', id=208, state_id=1), District(name='Sirmaur', id=212, state_id=1), District(name='Solan', id=209, state_id=1), District(name='Una', id=218, state_id=1)], 14: [District(name='Anantnag', id=224, state_id=1), District(name='Bandipore', id=223, state_id=1), District(name='Baramulla', id=225, state_id=1), District(name='Budgam', id=229, state_id=1), District(name='Doda', id=232, state_id=1), District(name='Ganderbal', id=228, state_id=1), District(name='Jammu', id=230, state_id=1), District(name='Kathua', id=234, state_id=1), District(name='Kishtwar', id=231, state_id=1), District(name='Kulgam', id=221, state_id=1), District(name='Kupwara', id=226, state_id=1), District(name='Poonch', id=238, state_id=1), District(name='Pulwama', id=227, state_id=1), District(name='Rajouri', id=237, state_id=1), District(name='Ramban', id=235, state_id=1), District(name='Reasi', id=239, state_id=1), District(name='Samba', id=236, state_id=1), District(name='Shopian', id=222, state_id=1), District(name='Srinagar', id=220, state_id=1), District(name='Udhampur', id=233, state_id=1)], 15: [District(name='Bokaro', id=242, state_id=1), District(name='Chatra', id=245, state_id=1), District(name='Deoghar', id=253, state_id=1), District(name='Dhanbad', id=257, state_id=1), District(name='Dumka', id=258, state_id=1), District(name='East Singhbhum', id=247, state_id=1), District(name='Garhwa', id=243, state_id=1), District(name='Giridih', id=256, state_id=1), District(name='Godda', id=262, state_id=1), District(name='Gumla', id=251, state_id=1), District(name='Hazaribagh', id=255, state_id=1), District(name='Jamtara', id=259, state_id=1), District(name='Khunti', id=252, state_id=1), District(name='Koderma', id=241, state_id=1), District(name='Latehar', id=244, state_id=1), District(name='Lohardaga', id=250, state_id=1), District(name='Pakur', id=261, state_id=1), District(name='Palamu', id=246, state_id=1), District(name='Ramgarh', id=254, state_id=1), District(name='Ranchi', id=240, state_id=1), District(name='Sahebganj', id=260, state_id=1), District(name='Seraikela Kharsawan', id=248, state_id=1), District(name='Simdega', id=249, state_id=1), District(name='West Singhbhum', id=263, state_id=1)], 16: [District(name='Bagalkot', id=270, state_id=1), District(name='Bangalore Rural', id=276, state_id=1), District(name='Bangalore Urban', id=265, state_id=1), District(name='BBMP', id=294, state_id=1), District(name='Belgaum', id=264, state_id=1), District(name='Bellary', id=274, state_id=1), District(name='Bidar', id=272, state_id=1), District(name='Chamarajanagar', id=271, state_id=1), District(name='Chikamagalur', id=273, state_id=1), District(name='Chikkaballapur', id=291, state_id=1), District(name='Chitradurga', id=268, state_id=1), District(name='Dakshina Kannada', id=269, state_id=1), District(name='Davanagere', id=275, state_id=1), District(name='Dharwad', id=278, state_id=1), District(name='Gadag', id=280, state_id=1), District(name='Gulbarga', id=267, state_id=1), District(name='Hassan', id=289, state_id=1), District(name='Haveri', id=279, state_id=1), District(name='Kodagu', id=283, state_id=1), District(name='Kolar', id=277, state_id=1), District(name='Koppal', id=282, state_id=1), District(name='Mandya', id=290, state_id=1), District(name='Mysore', id=266, state_id=1), District(name='Raichur', id=284, state_id=1), District(name='Ramanagara', id=292, state_id=1), District(name='Shimoga', id=287, state_id=1), District(name='Tumkur', id=288, state_id=1), District(name='Udupi', id=286, state_id=1), District(name='Uttar Kannada', id=281, state_id=1), District(name='Vijayapura', id=293, state_id=1), District(name='Yadgir', id=285, state_id=1)], 17: [District(name='Alappuzha', id=301, state_id=1), District(name='Ernakulam', id=307, state_id=1), District(name='Idukki', id=306, state_id=1), District(name='Kannur', id=297, state_id=1), District(name='Kasaragod', id=295, state_id=1), District(name='Kollam', id=298, state_id=1), District(name='Kottayam', id=304, state_id=1), District(name='Kozhikode', id=305, state_id=1), District(name='Malappuram', id=302, state_id=1), District(name='Palakkad', id=308, state_id=1), District(name='Pathanamthitta', id=300, state_id=1), District(name='Thiruvananthapuram', id=296, state_id=1), District(name='Thrissur', id=303, state_id=1), District(name='Wayanad', id=299, state_id=1)], 18: [District(name='Kargil', id=309, state_id=1), District(name='Leh', id=310, state_id=1)], 19: [District(name='Agatti Island', id=796, state_id=1), District(name='Lakshadweep', id=311, state_id=1)], 20: [District(name='Agar', id=320, state_id=1), District(name='Alirajpur', id=357, state_id=1), District(name='Anuppur', id=334, state_id=1), District(name='Ashoknagar', id=354, state_id=1), District(name='Balaghat', id=338, state_id=1), District(name='Barwani', id=343, state_id=1), District(name='Betul', id=362, state_id=1), District(name='Bhind', id=351, state_id=1), District(name='Bhopal', id=312, state_id=1), District(name='Burhanpur', id=342, state_id=1), District(name='Chhatarpur', id=328, state_id=1), District(name='Chhindwara', id=337, state_id=1), District(name='Damoh', id=327, state_id=1), District(name='Datia', id=350, state_id=1), District(name='Dewas', id=324, state_id=1), District(name='Dhar', id=341, state_id=1), District(name='Dindori', id=336, state_id=1), District(name='Guna', id=348, state_id=1), District(name='Gwalior', id=313, state_id=1), District(name='Harda', id=361, state_id=1), District(name='Hoshangabad', id=360, state_id=1), District(name='Indore', id=314, state_id=1), District(name='Jabalpur', id=315, state_id=1), District(name='Jhabua', id=340, state_id=1), District(name='Katni', id=353, state_id=1), District(name='Khandwa', id=339, state_id=1), District(name='Khargone', id=344, state_id=1), District(name='Mandla', id=335, state_id=1), District(name='Mandsaur', id=319, state_id=1), District(name='Morena', id=347, state_id=1), District(name='Narsinghpur', id=352, state_id=1), District(name='Neemuch', id=323, state_id=1), District(name='Panna', id=326, state_id=1), District(name='Raisen', id=359, state_id=1), District(name='Rajgarh', id=358, state_id=1), District(name='Ratlam', id=322, state_id=1), District(name='Rewa', id=316, state_id=1), District(name='Sagar', id=317, state_id=1), District(name='Satna', id=333, state_id=1), District(name='Sehore', id=356, state_id=1), District(name='Seoni', id=349, state_id=1), District(name='Shahdol', id=332, state_id=1), District(name='Shajapur', id=321, state_id=1), District(name='Sheopur', id=346, state_id=1), District(name='Shivpuri', id=345, state_id=1), District(name='Sidhi', id=331, state_id=1), District(name='Singrauli', id=330, state_id=1), District(name='Tikamgarh', id=325, state_id=1), District(name='Ujjain', id=318, state_id=1), District(name='Umaria', id=329, state_id=1), District(name='Vidisha', id=355, state_id=1)], 21: [District(name='Ahmednagar', id=391, state_id=1), District(name='Akola', id=364, state_id=1), District(name='Amravati', id=366, state_id=1), District(name='Aurangabad ', id=397, state_id=1), District(name='Beed', id=384, state_id=1), District(name='Bhandara', id=370, state_id=1), District(name='Buldhana', id=367, state_id=1), District(name='Chandrapur', id=380, state_id=1), District(name='Dhule', id=388, state_id=1), District(name='Gadchiroli', id=379, state_id=1), District(name='Gondia', id=378, state_id=1), District(name='Hingoli', id=386, state_id=1), District(name='Jalgaon', id=390, state_id=1), District(name='Jalna', id=396, state_id=1), District(name='Kolhapur', id=371, state_id=1), District(name='Latur', id=383, state_id=1), District(name='Mumbai', id=395, state_id=1), District(name='Nagpur', id=365, state_id=1), District(name='Nanded', id=382, state_id=1), District(name='Nandurbar', id=387, state_id=1), District(name='Nashik', id=389, state_id=1), District(name='Osmanabad', id=381, state_id=1), District(name='Palghar', id=394, state_id=1), District(name='Parbhani', id=385, state_id=1), District(name='Pune', id=363, state_id=1), District(name='Raigad', id=393, state_id=1), District(name='Ratnagiri', id=372, state_id=1), District(name='Sangli', id=373, state_id=1), District(name='Satara', id=376, state_id=1), District(name='Sindhudurg', id=374, state_id=1), District(name='Solapur', id=375, state_id=1), District(name='Thane', id=392, state_id=1), District(name='Wardha', id=377, state_id=1), District(name='Washim', id=369, state_id=1), District(name='Yavatmal', id=368, state_id=1)], 22: [District(name='Bishnupur', id=398, state_id=1), District(name='Chandel', id=399, state_id=1), District(name='Churachandpur', id=400, state_id=1), District(name='Imphal East', id=401, state_id=1), District(name='Imphal West', id=402, state_id=1), District(name='Jiribam', id=410, state_id=1), District(name='Kakching', id=413, state_id=1), District(name='Kamjong', id=409, state_id=1), District(name='Kangpokpi', id=408, state_id=1), District(name='Noney', id=412, state_id=1), District(name='Pherzawl', id=411, state_id=1), District(name='Senapati', id=403, state_id=1), District(name='Tamenglong', id=404, state_id=1), District(name='Tengnoupal', id=407, state_id=1), District(name='Thoubal', id=405, state_id=1), District(name='Ukhrul', id=406, state_id=1)], 23: [District(name='East Garo Hills', id=424, state_id=1), District(name='East Jaintia Hills', id=418, state_id=1), District(name='East Khasi Hills', id=414, state_id=1), District(name='North Garo Hills', id=423, state_id=1), District(name='Ri-Bhoi', id=417, state_id=1), District(name='South Garo Hills', id=421, state_id=1), District(name='South West Garo Hills', id=422, state_id=1), District(name='South West Khasi Hills', id=415, state_id=1), District(name='West Garo Hills', id=420, state_id=1), District(name='West Jaintia Hills', id=416, state_id=1), District(name='West Khasi Hills', id=419, state_id=1)], 24: [District(name='Aizawl East', id=425, state_id=1), District(name='Aizawl West', id=426, state_id=1), District(name='Champhai', id=429, state_id=1), District(name='Kolasib', id=428, state_id=1), District(name='Lawngtlai', id=432, state_id=1), District(name='Lunglei', id=431, state_id=1), District(name='Mamit', id=427, state_id=1), District(name='Serchhip', id=430, state_id=1), District(name='Siaha', id=433, state_id=1)], 25: [District(name='Dimapur', id=434, state_id=1), District(name='Kiphire', id=444, state_id=1), District(name='Kohima', id=441, state_id=1), District(name='Longleng', id=438, state_id=1), District(name='Mokokchung', id=437, state_id=1), District(name='Mon', id=439, state_id=1), District(name='Peren', id=435, state_id=1), District(name='Phek', id=443, state_id=1), District(name='Tuensang', id=440, state_id=1), District(name='Wokha', id=436, state_id=1), District(name='Zunheboto', id=442, state_id=1)], 26: [District(name='Angul', id=445, state_id=1), District(name='Balangir', id=448, state_id=1), District(name='Balasore', id=447, state_id=1), District(name='Bargarh', id=472, state_id=1), District(name='Bhadrak', id=454, state_id=1), District(name='Boudh', id=468, state_id=1), District(name='Cuttack', id=457, state_id=1), District(name='Deogarh', id=473, state_id=1), District(name='Dhenkanal', id=458, state_id=1), District(name='Gajapati', id=467, state_id=1), District(name='Ganjam', id=449, state_id=1), District(name='Jagatsinghpur', id=459, state_id=1), District(name='Jajpur', id=460, state_id=1), District(name='Jharsuguda', id=474, state_id=1), District(name='Kalahandi', id=464, state_id=1), District(name='Kandhamal', id=450, state_id=1), District(name='Kendrapara', id=461, state_id=1), District(name='Kendujhar', id=455, state_id=1), District(name='Khurda', id=446, state_id=1), District(name='Koraput', id=451, state_id=1), District(name='Malkangiri', id=469, state_id=1), District(name='Mayurbhanj', id=456, state_id=1), District(name='Nabarangpur', id=470, state_id=1), District(name='Nayagarh', id=462, state_id=1), District(name='Nuapada', id=465, state_id=1), District(name='Puri', id=463, state_id=1), District(name='Rayagada', id=471, state_id=1), District(name='Sambalpur', id=452, state_id=1), District(name='Subarnapur', id=466, state_id=1), District(name='Sundargarh', id=453, state_id=1)], 27: [District(name='Karaikal', id=476, state_id=1), District(name='Mahe', id=477, state_id=1), District(name='Puducherry', id=475, state_id=1), District(name='Yanam', id=478, state_id=1)], 28: [District(name='Amritsar', id=485, state_id=1), District(name='Barnala', id=483, state_id=1), District(name='Bathinda', id=493, state_id=1), District(name='Faridkot', id=499, state_id=1), District(name='Fatehgarh Sahib', id=484, state_id=1), District(name='Fazilka', id=487, state_id=1), District(name='Ferozpur', id=480, state_id=1), District(name='Gurdaspur', id=489, state_id=1), District(name='Hoshiarpur', id=481, state_id=1), District(name='Jalandhar', id=492, state_id=1), District(name='Kapurthala', id=479, state_id=1), District(name='Ludhiana', id=488, state_id=1), District(name='Mansa', id=482, state_id=1), District(name='Moga', id=491, state_id=1), District(name='Pathankot', id=486, state_id=1), District(name='Patiala', id=494, state_id=1), District(name='Rup Nagar', id=497, state_id=1), District(name='Sangrur', id=498, state_id=1), District(name='SAS Nagar', id=496, state_id=1), District(name='SBS Nagar', id=500, state_id=1), District(name='Sri Muktsar Sahib', id=490, state_id=1), District(name='Tarn Taran', id=495, state_id=1)], 29: [District(name='Ajmer', id=507, state_id=1), District(name='Alwar', id=512, state_id=1), District(name='Banswara', id=519, state_id=1), District(name='Baran', id=516, state_id=1), District(name='Barmer', id=528, state_id=1), District(name='Bharatpur', id=508, state_id=1), District(name='Bhilwara', id=523, state_id=1), District(name='Bikaner', id=501, state_id=1), District(name='Bundi', id=514, state_id=1), District(name='Chittorgarh', id=521, state_id=1), District(name='Churu', id=530, state_id=1), District(name='Dausa', id=511, state_id=1), District(name='Dholpur', id=524, state_id=1), District(name='Dungarpur', id=520, state_id=1), District(name='Hanumangarh', id=517, state_id=1), District(name='Jaipur I', id=505, state_id=1), District(name='Jaipur II', id=506, state_id=1), District(name='Jaisalmer', id=527, state_id=1), District(name='Jalore', id=533, state_id=1), District(name='Jhalawar', id=515, state_id=1), District(name='Jhunjhunu', id=510, state_id=1), District(name='Jodhpur', id=502, state_id=1), District(name='Karauli', id=525, state_id=1), District(name='Kota', id=503, state_id=1), District(name='Nagaur', id=532, state_id=1), District(name='Pali', id=529, state_id=1), District(name='Pratapgarh', id=522, state_id=1), District(name='Rajsamand', id=518, state_id=1), District(name='Sawai Madhopur', id=534, state_id=1), District(name='Sikar', id=513, state_id=1), District(name='Sirohi', id=531, state_id=1), District(name='Sri Ganganagar', id=509, state_id=1), District(name='Tonk', id=526, state_id=1), District(name='Udaipur', id=504, state_id=1)], 30: [District(name='East Sikkim', id=535, state_id=1), District(name='North Sikkim', id=537, state_id=1), District(name='South Sikkim', id=538, state_id=1), District(name='West Sikkim', id=536, state_id=1)], 31: [District(name='Aranthangi', id=779, state_id=1), District(name='Ariyalur', id=555, state_id=1), District(name='Attur', id=578, state_id=1), District(name='Chengalpet', id=565, state_id=1), District(name='Chennai', id=571, state_id=1), District(name='Cheyyar', id=778, state_id=1), District(name='Coimbatore', id=539, state_id=1), District(name='Cuddalore', id=547, state_id=1), District(name='Dharmapuri', id=566, state_id=1), District(name='Dindigul', id=556, state_id=1), District(name='Erode', id=563, state_id=1), District(name='Kallakurichi', id=552, state_id=1), District(name='Kanchipuram', id=557, state_id=1), District(name='Kanyakumari', id=544, state_id=1), District(name='Karur', id=559, state_id=1), District(name='Kovilpatti', id=780, state_id=1), District(name='Krishnagiri', id=562, state_id=1), District(name='Madurai', id=540, state_id=1), District(name='Nagapattinam', id=576, state_id=1), District(name='Namakkal', id=558, state_id=1), District(name='Nilgiris', id=577, state_id=1), District(name='Palani', id=564, state_id=1), District(name='Paramakudi', id=573, state_id=1), District(name='Perambalur', id=570, state_id=1), District(name='Poonamallee', id=575, state_id=1), District(name='Pudukkottai', id=546, state_id=1), District(name='Ramanathapuram', id=567, state_id=1), District(name='Ranipet', id=781, state_id=1), District(name='Salem', id=545, state_id=1), District(name='Sivaganga', id=561, state_id=1), District(name='Sivakasi', id=580, state_id=1), District(name='Tenkasi', id=551, state_id=1), District(name='Thanjavur', id=541, state_id=1), District(name='Theni', id=569, state_id=1), District(name='Thoothukudi (Tuticorin)', id=554, state_id=1), District(name='Tiruchirappalli', id=560, state_id=1), District(name='Tirunelveli', id=548, state_id=1), District(name='Tirupattur', id=550, state_id=1), District(name='Tiruppur', id=568, state_id=1), District(name='Tiruvallur', id=572, state_id=1), District(name='Tiruvannamalai', id=553, state_id=1), District(name='Tiruvarur', id=574, state_id=1), District(name='Vellore', id=543, state_id=1), District(name='Viluppuram', id=542, state_id=1), District(name='Virudhunagar', id=549, state_id=1)], 32: [District(name='Adilabad', id=582, state_id=1), District(name='Bhadradri Kothagudem', id=583, state_id=1), District(name='Hyderabad', id=581, state_id=1), District(name='Jagtial', id=584, state_id=1), District(name='Jangaon', id=585, state_id=1), District(name='Jayashankar Bhupalpally', id=586, state_id=1), District(name='Jogulamba Gadwal', id=587, state_id=1), District(name='Kamareddy', id=588, state_id=1), District(name='Karimnagar', id=589, state_id=1), District(name='Khammam', id=590, state_id=1), District(name='Kumuram Bheem', id=591, state_id=1), District(name='Mahabubabad', id=592, state_id=1), District(name='Mahabubnagar', id=593, state_id=1), District(name='Mancherial', id=594, state_id=1), District(name='Medak', id=595, state_id=1), District(name='Medchal', id=596, state_id=1), District(name='Mulugu', id=612, state_id=1), District(name='Nagarkurnool', id=597, state_id=1), District(name='Nalgonda', id=598, state_id=1), District(name='Narayanpet', id=613, state_id=1), District(name='Nirmal', id=599, state_id=1), District(name='Nizamabad', id=600, state_id=1), District(name='Peddapalli', id=601, state_id=1), District(name='Rajanna Sircilla', id=602, state_id=1), District(name='Rangareddy', id=603, state_id=1), District(name='Sangareddy', id=604, state_id=1), District(name='Siddipet', id=605, state_id=1), District(name='Suryapet', id=606, state_id=1), District(name='Vikarabad', id=607, state_id=1), District(name='Wanaparthy', id=608, state_id=1), District(name='Warangal(Rural)', id=609, state_id=1), District(name='Warangal(Urban)', id=610, state_id=1), District(name='Yadadri Bhuvanagiri', id=611, state_id=1)], 33: [District(name='Dhalai', id=614, state_id=1), District(name='Gomati', id=615, state_id=1), District(name='Khowai', id=616, state_id=1), District(name='North Tripura', id=617, state_id=1), District(name='Sepahijala', id=618, state_id=1), District(name='South Tripura', id=619, state_id=1), District(name='Unakoti', id=620, state_id=1), District(name='West Tripura', id=621, state_id=1)], 34: [District(name='Agra', id=622, state_id=1), District(name='Aligarh', id=623, state_id=1), District(name='Ambedkar Nagar', id=625, state_id=1), District(name='Amethi', id=626, state_id=1), District(name='Amroha', id=627, state_id=1), District(name='Auraiya', id=628, state_id=1), District(name='Ayodhya', id=646, state_id=1), District(name='Azamgarh', id=629, state_id=1), District(name='Badaun', id=630, state_id=1), District(name='Baghpat', id=631, state_id=1), District(name='Bahraich', id=632, state_id=1), District(name='Balarampur', id=633, state_id=1), District(name='Ballia', id=634, state_id=1), District(name='Banda', id=635, state_id=1), District(name='Barabanki', id=636, state_id=1), District(name='Bareilly', id=637, state_id=1), District(name='Basti', id=638, state_id=1), District(name='Bhadohi', id=687, state_id=1), District(name='Bijnour', id=639, state_id=1), District(name='Bulandshahr', id=640, state_id=1), District(name='Chandauli', id=641, state_id=1), District(name='Chitrakoot', id=642, state_id=1), District(name='Deoria', id=643, state_id=1), District(name='Etah', id=644, state_id=1), District(name='Etawah', id=645, state_id=1), District(name='Farrukhabad', id=647, state_id=1), District(name='Fatehpur', id=648, state_id=1), District(name='Firozabad', id=649, state_id=1), District(name='Gautam Buddha Nagar', id=650, state_id=1), District(name='Ghaziabad', id=651, state_id=1), District(name='Ghazipur', id=652, state_id=1), District(name='Gonda', id=653, state_id=1), District(name='Gorakhpur', id=654, state_id=1), District(name='Hamirpur', id=655, state_id=1), District(name='Hapur', id=656, state_id=1), District(name='Hardoi', id=657, state_id=1), District(name='Hathras', id=658, state_id=1), District(name='Jalaun', id=659, state_id=1), District(name='Jaunpur', id=660, state_id=1), District(name='Jhansi', id=661, state_id=1), District(name='Kannauj', id=662, state_id=1), District(name='Kanpur Dehat', id=663, state_id=1), District(name='Kanpur Nagar', id=664, state_id=1), District(name='Kasganj', id=665, state_id=1), District(name='Kaushambi', id=666, state_id=1), District(name='Kushinagar', id=667, state_id=1), District(name='Lakhimpur Kheri', id=668, state_id=1), District(name='Lalitpur', id=669, state_id=1), District(name='Lucknow', id=670, state_id=1), District(name='Maharajganj', id=671, state_id=1), District(name='Mahoba', id=672, state_id=1), District(name='Mainpuri', id=673, state_id=1), District(name='Mathura', id=674, state_id=1), District(name='Mau', id=675, state_id=1), District(name='Meerut', id=676, state_id=1), District(name='Mirzapur', id=677, state_id=1), District(name='Moradabad', id=678, state_id=1), District(name='Muzaffarnagar', id=679, state_id=1), District(name='Pilibhit', id=680, state_id=1), District(name='Pratapgarh', id=682, state_id=1), District(name='Prayagraj', id=624, state_id=1), District(name='Raebareli', id=681, state_id=1), District(name='Rampur', id=683, state_id=1), District(name='Saharanpur', id=684, state_id=1), District(name='Sambhal', id=685, state_id=1), District(name='Sant Kabir Nagar', id=686, state_id=1), District(name='Shahjahanpur', id=688, state_id=1), District(name='Shamli', id=689, state_id=1), District(name='Shravasti', id=690, state_id=1), District(name='Siddharthnagar', id=691, state_id=1), District(name='Sitapur', id=692, state_id=1), District(name='Sonbhadra', id=693, state_id=1), District(name='Sultanpur', id=694, state_id=1), District(name='Unnao', id=695, state_id=1), District(name='Varanasi', id=696, state_id=1)], 35: [District(name='Almora', id=704, state_id=1), District(name='Bageshwar', id=707, state_id=1), District(name='Chamoli', id=699, state_id=1), District(name='Champawat', id=708, state_id=1), District(name='Dehradun', id=697, state_id=1), District(name='Haridwar', id=702, state_id=1), District(name='Nainital', id=709, state_id=1), District(name='Pauri Garhwal', id=698, state_id=1), District(name='Pithoragarh', id=706, state_id=1), District(name='Rudraprayag', id=700, state_id=1), District(name='Tehri Garhwal', id=701, state_id=1), District(name='Udham Singh Nagar', id=705, state_id=1), District(name='Uttarkashi', id=703, state_id=1)], 36: [District(name='Alipurduar District', id=710, state_id=1), District(name='Bankura', id=711, state_id=1), District(name='Basirhat HD (North 24 Parganas)', id=712, state_id=1), District(name='Birbhum', id=713, state_id=1), District(name='Bishnupur HD (Bankura)', id=714, state_id=1), District(name='Cooch Behar', id=715, state_id=1), District(name='COOCHBEHAR', id=783, state_id=1), District(name='Dakshin Dinajpur', id=716, state_id=1), District(name='Darjeeling', id=717, state_id=1), District(name='Diamond Harbor HD (S 24 Parganas)', id=718, state_id=1), District(name='East Bardhaman', id=719, state_id=1), District(name='Hoogly', id=720, state_id=1), District(name='Howrah', id=721, state_id=1), District(name='Jalpaiguri', id=722, state_id=1), District(name='Jhargram', id=723, state_id=1), District(name='Kalimpong', id=724, state_id=1), District(name='Kolkata', id=725, state_id=1), District(name='Malda', id=726, state_id=1), District(name='Murshidabad', id=727, state_id=1), District(name='Nadia', id=728, state_id=1), District(name='Nandigram HD (East Medinipore)', id=729, state_id=1), District(name='North 24 Parganas', id=730, state_id=1), District(name='Paschim Medinipore', id=731, state_id=1), District(name='Purba Medinipore', id=732, state_id=1), District(name='Purulia', id=733, state_id=1), District(name='Rampurhat HD (Birbhum)', id=734, state_id=1), District(name='South 24 Parganas', id=735, state_id=1), District(name='Uttar Dinajpur', id=736, state_id=1), District(name='West Bardhaman', id=737, state_id=1)], 37: [District(name='Daman', id=138, state_id=1), District(name='Diu', id=139, state_id=1)], 39: [District(name='Chamba', id=791, state_id=1), District(name='Kangra', id=795, state_id=1), District(name='Kinnaur', id=792, state_id=1), District(name='Mandi', id=793, state_id=1), District(name='Shimla', id=794, state_id=1)]})\n"
     ]
    }
   ],
   "source": [
    "MOZILLA_HEADER = 'Mozilla/5.0 (Macintosh; Intel Mac OS X 10_10_1) AppleWebKit/537.36 (KHTML, like Gecko) Chrome/39.0.2171.95 Safari/537.36'\n",
    "GET_DISTRICT_DATA_API_URL = \"https://cdn-api.co-vin.in/api/v2/admin/location/districts/{}\"\n",
    "STATE_TO_DISTRICT_MAPPING = defaultdict(list)\n",
    "DISTRICTS = defaultdict(District)\n",
    "STATE_ID_TO_STATE_NAME_MAPPING = {\n",
    "    1:\"Andaman and Nicrobar\",\n",
    "    2:\"\",\n",
    "    3:\"\",\n",
    "    4:\"\",\n",
    "    5:\"\",\n",
    "    6:\"\",\n",
    "    7:\"\",\n",
    "    8:\"\",\n",
    "    9:\"\",\n",
    "    10:\"\",\n",
    "    11:\"\",\n",
    "    12:\"\",\n",
    "    13:\"\",\n",
    "    14:\"\",\n",
    "    15:\"\",\n",
    "    16:\"\",\n",
    "    17:\"\",\n",
    "    18:\"\",\n",
    "    19:\"\",\n",
    "    20:\"\",\n",
    "    21:\"\",\n",
    "    22:\"\",\n",
    "    23:\"\",\n",
    "    24:\"\",\n",
    "    25:\"\",\n",
    "    26:\"\",\n",
    "    27:\"\",\n",
    "    28:\"\",\n",
    "    29:\"\",\n",
    "    30:\"\",\n",
    "    31:\"\",\n",
    "    32:\"\",\n",
    "    33:\"\",\n",
    "    34:\"\",\n",
    "    35:\"\",\n",
    "    36:\"\",\n",
    "    37:\"\",\n",
    "    38:\"\",\n",
    "    39:\"\",\n",
    "    40:\"\",\n",
    "}\n",
    "\n",
    "for state_code in STATE_ID_TO_STATE_NAME_MAPPING.keys():\n",
    "    headers = {'User-Agent': MOZILLA_HEADER}\n",
    "    response = requests.get(GET_DISTRICT_DATA_API_URL.format(state_code), headers=headers)\n",
    "    districts_data = json.loads(response.content)\n",
    "    for district in districts_data['districts']:\n",
    "        district_name = district['district_name']\n",
    "        district_id = district['district_id']\n",
    "        district = District(name = district_name, id = district_id , state_id=1) \n",
    "        STATE_TO_DISTRICT_MAPPING[state_code].append(district)\n",
    "        DISTRICTS[district_id] = district\n",
    "\n",
    "print(STATE_TO_DISTRICT_MAPPING)"
   ]
  },
  {
   "cell_type": "code",
   "execution_count": null,
   "id": "8254bfb7",
   "metadata": {},
   "outputs": [],
   "source": []
  }
 ],
 "metadata": {
  "kernelspec": {
   "display_name": "Python 3",
   "language": "python",
   "name": "python3"
  },
  "language_info": {
   "codemirror_mode": {
    "name": "ipython",
    "version": 3
   },
   "file_extension": ".py",
   "mimetype": "text/x-python",
   "name": "python",
   "nbconvert_exporter": "python",
   "pygments_lexer": "ipython3",
   "version": "3.8.2"
  }
 },
 "nbformat": 4,
 "nbformat_minor": 5
}
