{
 "cells": [
  {
   "cell_type": "markdown",
   "id": "e4c32caf",
   "metadata": {},
   "source": [
    "# Covid vs India\n",
    "One of the biggest question I have been wondering is , with every adult allowed now to register, Where are vaccines slots available in india ? How can I make this decision programmitcally because trying to find information on government website is rather \"sisyphus task\".\n",
    "\n",
    "So with rather self involed goal in mind, We would using publicly avaialbe data try to answer following questions\n",
    "\n",
    "1. Latest vaccine slots per district and State in India\n",
    "2. Top 5 States Running behind on schedule\n",
    "3. Top 5 States Running ahead of everyone else.\n",
    "4. When can I latest find slots in Delhi, Bombay, Chennai and Bangalore for people between 18-45\n",
    "\n",
    "\n",
    "- toc: false\n",
    "- branch: master\n",
    "- badges: false,\n",
    "- comments: true,\n",
    "- categories: [vaccine, covid, jupyter, python],\n",
    "- image: images/statistics.png,\n",
    "- hide: false\n",
    "\n",
    "Thanks to https://github.com/bhattbhavesh91/cowin-vaccination-slot-availability/blob/main/cowin-api-availability.ipynb for doing actual work, I picked up loads of stuff from there.\n"
   ]
  },
  {
   "cell_type": "code",
   "execution_count": 76,
   "id": "db9f0631",
   "metadata": {
    "scrolled": true
   },
   "outputs": [
    {
     "name": "stdout",
     "output_type": "stream",
     "text": [
      "Requirement already satisfied: install in /Users/saimeerashanawas/Library/Python/3.8/lib/python/site-packages (1.3.4)\n",
      "Requirement already satisfied: requests in /Users/saimeerashanawas/Library/Python/3.8/lib/python/site-packages (2.25.1)\n",
      "Requirement already satisfied: certifi>=2017.4.17 in /Users/saimeerashanawas/Library/Python/3.8/lib/python/site-packages (from requests) (2020.12.5)\n",
      "Requirement already satisfied: idna<3,>=2.5 in /Users/saimeerashanawas/Library/Python/3.8/lib/python/site-packages (from requests) (2.10)\n",
      "Requirement already satisfied: chardet<5,>=3.0.2 in /Users/saimeerashanawas/Library/Python/3.8/lib/python/site-packages (from requests) (4.0.0)\n",
      "Requirement already satisfied: urllib3<1.27,>=1.21.1 in /Users/saimeerashanawas/Library/Python/3.8/lib/python/site-packages (from requests) (1.26.4)\n",
      "\u001b[33mWARNING: You are using pip version 19.2.3, however version 21.1 is available.\n",
      "You should consider upgrading via the 'pip install --upgrade pip' command.\u001b[0m\n",
      "Requirement already satisfied: install in /Users/saimeerashanawas/Library/Python/3.8/lib/python/site-packages (1.3.4)\n",
      "Requirement already satisfied: altair in /Users/saimeerashanawas/Library/Python/3.8/lib/python/site-packages (4.1.0)\n",
      "Requirement already satisfied: jinja2 in /Users/saimeerashanawas/Library/Python/3.8/lib/python/site-packages (from altair) (2.11.3)\n",
      "Requirement already satisfied: numpy in /Users/saimeerashanawas/Library/Python/3.8/lib/python/site-packages (from altair) (1.20.2)\n",
      "Requirement already satisfied: entrypoints in /Users/saimeerashanawas/Library/Python/3.8/lib/python/site-packages (from altair) (0.3)\n",
      "Requirement already satisfied: pandas>=0.18 in /Users/saimeerashanawas/Library/Python/3.8/lib/python/site-packages (from altair) (1.2.4)\n",
      "Requirement already satisfied: jsonschema in /Users/saimeerashanawas/Library/Python/3.8/lib/python/site-packages (from altair) (3.2.0)\n",
      "Requirement already satisfied: toolz in /Users/saimeerashanawas/Library/Python/3.8/lib/python/site-packages (from altair) (0.11.1)\n",
      "Requirement already satisfied: MarkupSafe>=0.23 in /Users/saimeerashanawas/Library/Python/3.8/lib/python/site-packages (from jinja2->altair) (1.1.1)\n",
      "Requirement already satisfied: python-dateutil>=2.7.3 in /Users/saimeerashanawas/Library/Python/3.8/lib/python/site-packages (from pandas>=0.18->altair) (2.8.1)\n",
      "Requirement already satisfied: pytz>=2017.3 in /Users/saimeerashanawas/Library/Python/3.8/lib/python/site-packages (from pandas>=0.18->altair) (2021.1)\n",
      "Requirement already satisfied: six>=1.11.0 in /Library/Developer/CommandLineTools/Library/Frameworks/Python3.framework/Versions/3.8/lib/python3.8/site-packages (from jsonschema->altair) (1.15.0)\n",
      "Requirement already satisfied: attrs>=17.4.0 in /Users/saimeerashanawas/Library/Python/3.8/lib/python/site-packages (from jsonschema->altair) (20.3.0)\n",
      "Requirement already satisfied: setuptools in /Library/Developer/CommandLineTools/Library/Frameworks/Python3.framework/Versions/3.8/lib/python3.8/site-packages (from jsonschema->altair) (41.2.0)\n",
      "Requirement already satisfied: pyrsistent>=0.14.0 in /Users/saimeerashanawas/Library/Python/3.8/lib/python/site-packages (from jsonschema->altair) (0.17.3)\n",
      "\u001b[33mWARNING: You are using pip version 19.2.3, however version 21.1 is available.\n",
      "You should consider upgrading via the 'pip install --upgrade pip' command.\u001b[0m\n",
      "Requirement already satisfied: install in /Users/saimeerashanawas/Library/Python/3.8/lib/python/site-packages (1.3.4)\n",
      "Requirement already satisfied: pandas in /Users/saimeerashanawas/Library/Python/3.8/lib/python/site-packages (1.2.4)\n",
      "Requirement already satisfied: numpy>=1.16.5 in /Users/saimeerashanawas/Library/Python/3.8/lib/python/site-packages (from pandas) (1.20.2)\n",
      "Requirement already satisfied: python-dateutil>=2.7.3 in /Users/saimeerashanawas/Library/Python/3.8/lib/python/site-packages (from pandas) (2.8.1)\n",
      "Requirement already satisfied: pytz>=2017.3 in /Users/saimeerashanawas/Library/Python/3.8/lib/python/site-packages (from pandas) (2021.1)\n",
      "Requirement already satisfied: six>=1.5 in /Library/Developer/CommandLineTools/Library/Frameworks/Python3.framework/Versions/3.8/lib/python3.8/site-packages (from python-dateutil>=2.7.3->pandas) (1.15.0)\n",
      "\u001b[33mWARNING: You are using pip version 19.2.3, however version 21.1 is available.\n",
      "You should consider upgrading via the 'pip install --upgrade pip' command.\u001b[0m\n",
      "Requirement already satisfied: install in /Users/saimeerashanawas/Library/Python/3.8/lib/python/site-packages (1.3.4)\n",
      "Requirement already satisfied: geopandas in /Users/saimeerashanawas/Library/Python/3.8/lib/python/site-packages (0.9.0)\n",
      "Requirement already satisfied: pyproj>=2.2.0 in /Users/saimeerashanawas/Library/Python/3.8/lib/python/site-packages (from geopandas) (3.0.1)\n",
      "Requirement already satisfied: shapely>=1.6 in /Users/saimeerashanawas/Library/Python/3.8/lib/python/site-packages (from geopandas) (1.7.1)\n",
      "Requirement already satisfied: fiona>=1.8 in /Users/saimeerashanawas/Library/Python/3.8/lib/python/site-packages (from geopandas) (1.8.19)\n",
      "Requirement already satisfied: pandas>=0.24.0 in /Users/saimeerashanawas/Library/Python/3.8/lib/python/site-packages (from geopandas) (1.2.4)\n",
      "Requirement already satisfied: certifi in /Users/saimeerashanawas/Library/Python/3.8/lib/python/site-packages (from pyproj>=2.2.0->geopandas) (2020.12.5)\n",
      "Requirement already satisfied: click<8,>=4.0 in /Users/saimeerashanawas/Library/Python/3.8/lib/python/site-packages (from fiona>=1.8->geopandas) (7.1.2)\n",
      "Requirement already satisfied: click-plugins>=1.0 in /Users/saimeerashanawas/Library/Python/3.8/lib/python/site-packages (from fiona>=1.8->geopandas) (1.1.1)\n",
      "Requirement already satisfied: cligj>=0.5 in /Users/saimeerashanawas/Library/Python/3.8/lib/python/site-packages (from fiona>=1.8->geopandas) (0.7.1)\n",
      "Requirement already satisfied: munch in /Users/saimeerashanawas/Library/Python/3.8/lib/python/site-packages (from fiona>=1.8->geopandas) (2.5.0)\n",
      "Requirement already satisfied: attrs>=17 in /Users/saimeerashanawas/Library/Python/3.8/lib/python/site-packages (from fiona>=1.8->geopandas) (20.3.0)\n",
      "Requirement already satisfied: six>=1.7 in /Library/Developer/CommandLineTools/Library/Frameworks/Python3.framework/Versions/3.8/lib/python3.8/site-packages (from fiona>=1.8->geopandas) (1.15.0)\n",
      "Requirement already satisfied: numpy>=1.16.5 in /Users/saimeerashanawas/Library/Python/3.8/lib/python/site-packages (from pandas>=0.24.0->geopandas) (1.20.2)\n",
      "Requirement already satisfied: python-dateutil>=2.7.3 in /Users/saimeerashanawas/Library/Python/3.8/lib/python/site-packages (from pandas>=0.24.0->geopandas) (2.8.1)\n",
      "Requirement already satisfied: pytz>=2017.3 in /Users/saimeerashanawas/Library/Python/3.8/lib/python/site-packages (from pandas>=0.24.0->geopandas) (2021.1)\n",
      "\u001b[33mWARNING: You are using pip version 19.2.3, however version 21.1 is available.\n",
      "You should consider upgrading via the 'pip install --upgrade pip' command.\u001b[0m\n"
     ]
    }
   ],
   "source": [
    "!{sys.executable} -m pip install --user install requests\n",
    "!{sys.executable} -m pip install --user install altair\n",
    "!{sys.executable} -m pip install --user install pandas\n",
    "!{sys.executable} -m pip install --user install geopandas\n",
    "#hide"
   ]
  },
  {
   "cell_type": "markdown",
   "id": "bf518408",
   "metadata": {},
   "source": [
    "Get All libraries in place"
   ]
  },
  {
   "cell_type": "code",
   "execution_count": 77,
   "id": "aa196a49",
   "metadata": {},
   "outputs": [],
   "source": [
    "import geopandas as gpd\n",
    "import pandas as pd\n",
    "import requests\n",
    "import json\n",
    "from collections import defaultdict\n",
    "from dataclasses import dataclass, asdict\n",
    "import datetime\n",
    "from typing import List"
   ]
  },
  {
   "cell_type": "markdown",
   "id": "79d85b16",
   "metadata": {},
   "source": [
    "Lets make a data class to store our geographical and vaccination data"
   ]
  },
  {
   "cell_type": "code",
   "execution_count": 78,
   "id": "f5fb8984",
   "metadata": {},
   "outputs": [],
   "source": [
    "@dataclass\n",
    "class District:\n",
    "    id:str = None\n",
    "    name:str = None\n",
    "    state_id:int = None\n",
    "\n",
    "\n",
    "@dataclass\n",
    "class Session:\n",
    "    id:str = None\n",
    "    date:str = None\n",
    "    available_capacity:int = None\n",
    "    min_age_limit:int = None\n",
    "    vaccine:str = None\n",
    "    center_id:str = None\n",
    "    district_id:str = None\n",
    "        \n",
    "@dataclass\n",
    "class Center:\n",
    "    id:str = None\n",
    "    name:str = None\n",
    "    state_name:str = None\n",
    "    district_name:str = None\n",
    "    block_name:str = None\n",
    "    lat:int = None\n",
    "    lng:int = None\n",
    "    fee_type:str = None\n",
    "    district_id:str = None\n"
   ]
  },
  {
   "cell_type": "markdown",
   "id": "17da0fae",
   "metadata": {},
   "source": [
    "Lets call the API to get the populate geographical data"
   ]
  },
  {
   "cell_type": "code",
   "execution_count": 79,
   "id": "61c68559",
   "metadata": {},
   "outputs": [],
   "source": [
    "MOZILLA_HEADER = 'Mozilla/5.0 (Macintosh; Intel Mac OS X 10_10_1) AppleWebKit/537.36 (KHTML, like Gecko) Chrome/39.0.2171.95 Safari/537.36'\n",
    "GET_DISTRICT_DATA_API_URL = \"https://cdn-api.co-vin.in/api/v2/admin/location/districts/{}\"\n",
    "GET_APOINTMENT_DATA_API_URL = \"https://cdn-api.co-vin.in/api/v2/appointment/sessions/public/calendarByDistrict?district_id={}&date={}\"\n",
    "\n",
    "STATE_TO_DISTRICT_MAPPING = defaultdict(list)\n",
    "DISTRICTS = defaultdict(District)\n",
    "CENTERS = defaultdict(Center)\n",
    "Session = defaultdict(Session)\n",
    "\n",
    "STATE_ID_TO_STATE_NAME_MAPPING = {\n",
    "    1:\"Andaman and Nicobar\",\n",
    "    2:\"\",\n",
    "    3:\"\",\n",
    "    4:\"\",\n",
    "    5:\"\",\n",
    "    6:\"\",\n",
    "    7:\"\",\n",
    "    8:\"\",\n",
    "    9:\"\",\n",
    "    10:\"\",\n",
    "    11:\"\",\n",
    "    12:\"\",\n",
    "    13:\"\",\n",
    "    14:\"\",\n",
    "    15:\"\",\n",
    "    16:\"\",\n",
    "    17:\"\",\n",
    "    18:\"\",\n",
    "    19:\"\",\n",
    "    20:\"\",\n",
    "    21:\"\",\n",
    "    22:\"\",\n",
    "    23:\"\",\n",
    "    24:\"\",\n",
    "    25:\"\",\n",
    "    26:\"\",\n",
    "    27:\"\",\n",
    "    28:\"\",\n",
    "    29:\"\",\n",
    "    30:\"\",\n",
    "    31:\"\",\n",
    "    32:\"\",\n",
    "    33:\"\",\n",
    "    34:\"\",\n",
    "    35:\"\",\n",
    "    36:\"\",\n",
    "    37:\"\",\n",
    "    38:\"\",\n",
    "    39:\"\",\n",
    "    40:\"\",\n",
    "}\n",
    "\n",
    "for state_code in STATE_ID_TO_STATE_NAME_MAPPING.keys():\n",
    "    headers = {'User-Agent': MOZILLA_HEADER}\n",
    "    response = requests.get(GET_DISTRICT_DATA_API_URL.format(state_code), headers=headers)\n",
    "    districts_data = json.loads(response.content)\n",
    "    for district in districts_data['districts']:\n",
    "        district_name = district['district_name']\n",
    "        district_id = district['district_id']\n",
    "        district = District(name = district_name, id = district_id , state_id=state_code) \n",
    "        STATE_TO_DISTRICT_MAPPING[state_code].append(district)\n",
    "        DISTRICTS[district_id] = district"
   ]
  },
  {
   "cell_type": "code",
   "execution_count": 80,
   "id": "a7dba880",
   "metadata": {},
   "outputs": [
    {
     "name": "stdout",
     "output_type": "stream",
     "text": [
      "      id                      name  state_id\n",
      "0      3                   Nicobar         1\n",
      "1      1  North and Middle Andaman         1\n",
      "2      2             South Andaman         1\n",
      "3      9                 Anantapur         2\n",
      "4     10                  Chittoor         2\n",
      "..   ...                       ...       ...\n",
      "756  791                    Chamba        39\n",
      "757  795                    Kangra        39\n",
      "758  792                   Kinnaur        39\n",
      "759  793                     Mandi        39\n",
      "760  794                    Shimla        39\n",
      "\n",
      "[761 rows x 3 columns]\n"
     ]
    }
   ],
   "source": [
    "DISTRICT_DF = pd.DataFrame.from_dict([asdict(district) for district in DISTRICTS.values()])\n",
    "print(DISTRICT_DF)"
   ]
  },
  {
   "cell_type": "markdown",
   "id": "197da2bc",
   "metadata": {},
   "source": [
    "Lets now call actual api to get slots "
   ]
  },
  {
   "cell_type": "code",
   "execution_count": 82,
   "id": "eb1d9e4f",
   "metadata": {},
   "outputs": [
    {
     "name": "stdout",
     "output_type": "stream",
     "text": [
      "You can book vaccine slots on 01-05-2021\n",
      "You can book vaccine slots on 02-05-2021\n",
      "You can book vaccine slots on 03-05-2021\n",
      "You can book vaccine slots on 04-05-2021\n",
      "You can book vaccine slots on 05-05-2021\n",
      "You can book vaccine slots on 06-05-2021\n",
      "You can book vaccine slots on 07-05-2021\n",
      "You can book vaccine slots on 08-05-2021\n",
      "You can book vaccine slots on 09-05-2021\n",
      "You can book vaccine slots on 10-05-2021\n",
      "You can book vaccine slots on 11-05-2021\n",
      "You can book vaccine slots on 12-05-2021\n",
      "You can book vaccine slots on 13-05-2021\n",
      "You can book vaccine slots on 14-05-2021\n",
      "You can book vaccine slots on 15-05-2021\n",
      "defaultdict(<class '__main__.Center'>, {150815: Center(id=150815, name='Raipur Khurd PHC', state_name='Maharashtra', district_name='Buldhana', block_name='Buldhana', lat=20, lng=76, fee_type='Free', district_id=367), 692573: Center(id=692573, name='Buldhana DH - 2 (18-44)', state_name='Maharashtra', district_name='Buldhana', block_name='Buldhana', lat=0, lng=0, fee_type='Free', district_id=367), 149982: Center(id=149982, name='Khamgaon UHC', state_name='Maharashtra', district_name='Buldhana', block_name='Khamgaon', lat=20, lng=76, fee_type='Free', district_id=367), 563391: Center(id=563391, name='Chikhli RH Campus', state_name='Maharashtra', district_name='Buldhana', block_name='Chikhli', lat=20, lng=76, fee_type='Free', district_id=367), 613551: Center(id=613551, name='Dhanwe Hospital Chikhali', state_name='Maharashtra', district_name='Buldhana', block_name='Chikhli', lat=20, lng=76, fee_type='Paid', district_id=367), 666417: Center(id=666417, name='Bhadgaon Awc', state_name='Maharashtra', district_name='Buldhana', block_name='Buldhana', lat=0, lng=0, fee_type='Free', district_id=367), 563393: Center(id=563393, name='Deolgaon Raja RH Campus', state_name='Maharashtra', district_name='Buldhana', block_name='Deolgaon Raja', lat=20, lng=76, fee_type='Free', district_id=367), 149669: Center(id=149669, name='Deolgaon Mahi RH', state_name='Maharashtra', district_name='Buldhana', block_name='Deolgaon Raja', lat=20, lng=76, fee_type='Free', district_id=367), 559785: Center(id=559785, name='2. Chikhli RH', state_name='Maharashtra', district_name='Buldhana', block_name='Chikhli', lat=20, lng=76, fee_type='Free', district_id=367), 149389: Center(id=149389, name='Adgaon Raja', state_name='Maharashtra', district_name='Buldhana', block_name='Sindkhed Raja', lat=0, lng=0, fee_type='Free', district_id=367), 613368: Center(id=613368, name='Manas Hospital', state_name='Maharashtra', district_name='Buldhana', block_name='Malkapur', lat=20, lng=76, fee_type='Paid', district_id=367), 149932: Center(id=149932, name='Jawalkhed PHC', state_name='Maharashtra', district_name='Buldhana', block_name='Deolgaon Raja', lat=20, lng=76, fee_type='Free', district_id=367), 149739: Center(id=149739, name='Dongaon1 PHC', state_name='Maharashtra', district_name='Buldhana', block_name='Mehkar', lat=20, lng=76, fee_type='Free', district_id=367), 692828: Center(id=692828, name='Andhera Phc (18-44 Years)', state_name='Maharashtra', district_name='Buldhana', block_name='Deolgaon Raja', lat=0, lng=0, fee_type='Free', district_id=367), 150268: Center(id=150268, name='Motala RH', state_name='Maharashtra', district_name='Buldhana', block_name='Motala', lat=20, lng=76, fee_type='Free', district_id=367), 154866: Center(id=154866, name='Talkhed', state_name='Maharashtra', district_name='Buldhana', block_name='Motala', lat=20, lng=76, fee_type='Free', district_id=367), 615926: Center(id=615926, name='SonalaPHC', state_name='Maharashtra', district_name='Buldhana', block_name='Buldhana', lat=21, lng=76, fee_type='Free', district_id=367), 683395: Center(id=683395, name='Liha Awc', state_name='Maharashtra', district_name='Buldhana', block_name='Motala', lat=20, lng=76, fee_type='Free', district_id=367), 150732: Center(id=150732, name='Pimpalgaon Raja PHC', state_name='Maharashtra', district_name='Buldhana', block_name='Khamgaon', lat=20, lng=76, fee_type='Free', district_id=367), 151657: Center(id=151657, name='Warwat Bakal RH', state_name='Maharashtra', district_name='Buldhana', block_name='Sangrampur', lat=21, lng=76, fee_type='Free', district_id=367), 692641: Center(id=692641, name='Khamgaon SDH 2 (18-44)', state_name='Maharashtra', district_name='Buldhana', block_name='Khamgaon', lat=0, lng=0, fee_type='Free', district_id=367), 150509: Center(id=150509, name='Paturda PHC', state_name='Maharashtra', district_name='Buldhana', block_name='Sangrampur', lat=20, lng=76, fee_type='Free', district_id=367), 645226: Center(id=645226, name='Bibi RH Campus', state_name='Maharashtra', district_name='Buldhana', block_name='Lonar', lat=20, lng=76, fee_type='Free', district_id=367), 149703: Center(id=149703, name='3. Deolgaon Raja RH', state_name='Maharashtra', district_name='Buldhana', block_name='Deolgaon Raja', lat=20, lng=76, fee_type='Free', district_id=367), 150084: Center(id=150084, name='Lakhanwada RH', state_name='Maharashtra', district_name='Buldhana', block_name='Khamgaon', lat=20, lng=76, fee_type='Free', district_id=367), 613365: Center(id=613365, name='Aastha Accident Hospital', state_name='Maharashtra', district_name='Buldhana', block_name='Malkapur', lat=20, lng=76, fee_type='Paid', district_id=367), 615935: Center(id=615935, name='Narvel PHC', state_name='Maharashtra', district_name='Buldhana', block_name='Buldhana', lat=20, lng=76, fee_type='Free', district_id=367), 692833: Center(id=692833, name='Umali Phc ( 18-44 Years )', state_name='Maharashtra', district_name='Buldhana', block_name='Malkapur', lat=0, lng=0, fee_type='Free', district_id=367), 149843: Center(id=149843, name='Jalamb PHC', state_name='Maharashtra', district_name='Buldhana', block_name='Shegaon', lat=20, lng=76, fee_type='Free', district_id=367), 606952: Center(id=606952, name='Kothari Hospital Chikhli', state_name='Maharashtra', district_name='Buldhana', block_name='Chikhli', lat=20, lng=76, fee_type='Paid', district_id=367), 150211: Center(id=150211, name='7. MALKAPUR SDH', state_name='Maharashtra', district_name='Buldhana', block_name='Malkapur', lat=20, lng=76, fee_type='Free', district_id=367), 151655: Center(id=151655, name='Warwand PHC CCP', state_name='Maharashtra', district_name='Buldhana', block_name='Buldhana', lat=20, lng=76, fee_type='Free', district_id=367), 613355: Center(id=613355, name='Sontakke Children Hospital', state_name='Maharashtra', district_name='Buldhana', block_name='Khamgaon', lat=20, lng=76, fee_type='Paid', district_id=367), 671588: Center(id=671588, name='Korhala Awc', state_name='Maharashtra', district_name='Buldhana', block_name='Motala', lat=20, lng=76, fee_type='Free', district_id=367), 648700: Center(id=648700, name='Malkapur UHC', state_name='Maharashtra', district_name='Buldhana', block_name='Malkapur', lat=20, lng=76, fee_type='Free', district_id=367), 692827: Center(id=692827, name='Chikhali RH 2 (18-44 Years)', state_name='Maharashtra', district_name='Buldhana', block_name='Chikhli', lat=0, lng=0, fee_type='Free', district_id=367), 645257: Center(id=645257, name='Jalgaon Jamod RH Campus', state_name='Maharashtra', district_name='Buldhana', block_name='Jalgaon Jamod', lat=21, lng=76, fee_type='Free', district_id=367), 149765: Center(id=149765, name='Eklara PHC', state_name='Maharashtra', district_name='Buldhana', block_name='Chikhli', lat=20, lng=76, fee_type='Free', district_id=367), 154820: Center(id=154820, name='Rohinkhed Awc', state_name='Maharashtra', district_name='Buldhana', block_name='Motala', lat=0, lng=0, fee_type='Free', district_id=367), 149783: Center(id=149783, name='Ganeshpur PHC', state_name='Maharashtra', district_name='Buldhana', block_name='Khamgaon', lat=20, lng=76, fee_type='Free', district_id=367), 149547: Center(id=149547, name='8. Borakhedi PHC', state_name='Maharashtra', district_name='Buldhana', block_name='Motala', lat=20, lng=76, fee_type='Free', district_id=367), 151610: Center(id=151610, name='Wankhed PHC', state_name='Maharashtra', district_name='Buldhana', block_name='Sangrampur', lat=20, lng=76, fee_type='Free', district_id=367), 149528: Center(id=149528, name='Bhongaon PHC', state_name='Maharashtra', district_name='Buldhana', block_name='Shegaon', lat=20, lng=76, fee_type='Free', district_id=367), 154971: Center(id=154971, name='Takarkherd PHC', state_name='Maharashtra', district_name='Buldhana', block_name='Nandura', lat=20, lng=76, fee_type='Free', district_id=367), 613330: Center(id=613330, name='Mauli Dialysis Center', state_name='Maharashtra', district_name='Buldhana', block_name='Shegaon', lat=20, lng=76, fee_type='Paid', district_id=367), 646902: Center(id=646902, name='Motala RH Campus', state_name='Maharashtra', district_name='Buldhana', block_name='Motala', lat=20, lng=76, fee_type='Free', district_id=367), 666432: Center(id=666432, name='Pangri Awc Campas', state_name='Maharashtra', district_name='Buldhana', block_name='Buldhana', lat=0, lng=0, fee_type='Free', district_id=367), 149887: Center(id=149887, name='Janefal PHC', state_name='Maharashtra', district_name='Buldhana', block_name='Mehkar', lat=20, lng=76, fee_type='Free', district_id=367), 150912: Center(id=150912, name='Sakharkherda PHC', state_name='Maharashtra', district_name='Buldhana', block_name='Sindkhed Raja', lat=0, lng=0, fee_type='Free', district_id=367), 150686: Center(id=150686, name='Pimplegaon Kale', state_name='Maharashtra', district_name='Buldhana', block_name='Jalgaon Jamod', lat=20, lng=76, fee_type='Free', district_id=367), 149544: Center(id=149544, name='Bibi RH', state_name='Maharashtra', district_name='Buldhana', block_name='Lonar', lat=20, lng=76, fee_type='Free', district_id=367), 646748: Center(id=646748, name='Lonar RH Campus', state_name='Maharashtra', district_name='Buldhana', block_name='Lonar', lat=19, lng=76, fee_type='Free', district_id=367), 151454: Center(id=151454, name='Umali 1', state_name='Maharashtra', district_name='Buldhana', block_name='Malkapur', lat=20, lng=76, fee_type='Free', district_id=367), 559772: Center(id=559772, name='Buldhana UHC', state_name='Maharashtra', district_name='Buldhana', block_name='Buldhana', lat=0, lng=0, fee_type='Free', district_id=367), 632175: Center(id=632175, name='Shivani Pisa PHC', state_name='Maharashtra', district_name='Buldhana', block_name='Buldhana', lat=0, lng=0, fee_type='Free', district_id=367), 154793: Center(id=154793, name='Dhamangaon Bade PHC', state_name='Maharashtra', district_name='Buldhana', block_name='Motala', lat=20, lng=76, fee_type='Free', district_id=367), 150854: Center(id=150854, name='Rohana PHC', state_name='Maharashtra', district_name='Buldhana', block_name='Khamgaon', lat=20, lng=76, fee_type='Free', district_id=367), 149602: Center(id=149602, name='Pimprigawali PHC', state_name='Maharashtra', district_name='Buldhana', block_name='Khamgaon', lat=20, lng=76, fee_type='Free', district_id=367), 613338: Center(id=613338, name='Tuljai Hospital Chikhali', state_name='Maharashtra', district_name='Buldhana', block_name='Chikhli', lat=20, lng=76, fee_type='Paid', district_id=367), 149976: Center(id=149976, name='5. Khamgaon SDH', state_name='Maharashtra', district_name='Buldhana', block_name='Khamgaon', lat=20, lng=76, fee_type='Free', district_id=367), 149508: Center(id=149508, name='Atali PHC', state_name='Maharashtra', district_name='Buldhana', block_name='Khamgaon', lat=20, lng=76, fee_type='Free', district_id=367), 151168: Center(id=151168, name='SHEMBA Bujurg PHC', state_name='Maharashtra', district_name='Buldhana', block_name='Nandura', lat=20, lng=76, fee_type='Free', district_id=367), 615973: Center(id=615973, name='Malkapur Pangra PHC', state_name='Maharashtra', district_name='Buldhana', block_name='Buldhana', lat=0, lng=0, fee_type='Free', district_id=367), 150337: Center(id=150337, name='10. Nandura PHC', state_name='Maharashtra', district_name='Buldhana', block_name='Nandura', lat=20, lng=76, fee_type='Free', district_id=367), 582816: Center(id=582816, name='13. Sindkhed Raja RH', state_name='Maharashtra', district_name='Buldhana', block_name='Sindkhed Raja', lat=19, lng=76, fee_type='Free', district_id=367), 150085: Center(id=150085, name='Lonar RH', state_name='Maharashtra', district_name='Buldhana', block_name='Lonar', lat=19, lng=76, fee_type='Free', district_id=367), 149590: Center(id=149590, name='Bothakazi PHC', state_name='Maharashtra', district_name='Buldhana', block_name='Khamgaon', lat=20, lng=77, fee_type='Free', district_id=367), 559635: Center(id=559635, name='12. Shegaon SDH', state_name='Maharashtra', district_name='Buldhana', block_name='Shegaon', lat=20, lng=76, fee_type='Free', district_id=367), 604816: Center(id=604816, name='MEHETRE HOSPITAL', state_name='Maharashtra', district_name='Buldhana', block_name='Buldhana', lat=20, lng=76, fee_type='Paid', district_id=367), 572119: Center(id=572119, name='Andhera PHC', state_name='Maharashtra', district_name='Buldhana', block_name='Deolgaon Raja', lat=20, lng=76, fee_type='Free', district_id=367), 149912: Center(id=149912, name='Jawala Bk PHC', state_name='Maharashtra', district_name='Buldhana', block_name='Shegaon', lat=20, lng=76, fee_type='Free', district_id=367), 150260: Center(id=150260, name='9. Mehkar RH', state_name='Maharashtra', district_name='Buldhana', block_name='Mehkar', lat=20, lng=76, fee_type='Free', district_id=367), 149956: Center(id=149956, name='Kalambeshwar PHC', state_name='Maharashtra', district_name='Buldhana', block_name='Mehkar', lat=20, lng=76, fee_type='Free', district_id=367), 151144: Center(id=151144, name='Shelgaon Atol PHC', state_name='Maharashtra', district_name='Buldhana', block_name='Chikhli', lat=20, lng=76, fee_type='Free', district_id=367), 666423: Center(id=666423, name='Pimpalgaon Sarai Awc', state_name='Maharashtra', district_name='Buldhana', block_name='Buldhana', lat=0, lng=0, fee_type='Free', district_id=367), 151518: Center(id=151518, name='Undri PHC', state_name='Maharashtra', district_name='Buldhana', block_name='Chikhli', lat=20, lng=76, fee_type='Free', district_id=367), 149414: Center(id=149414, name='Adsul PHC', state_name='Maharashtra', district_name='Buldhana', block_name='Shegaon', lat=20, lng=76, fee_type='Free', district_id=367), 566198: Center(id=566198, name='Buldhana CS Camp', state_name='Maharashtra', district_name='Buldhana', block_name='Buldhana', lat=20, lng=76, fee_type='Free', district_id=367), 150792: Center(id=150792, name='Raigaon PHC', state_name='Maharashtra', district_name='Buldhana', block_name='Lonar', lat=0, lng=0, fee_type='Free', district_id=367), 149681: Center(id=149681, name='Deolgaon Mali PHC', state_name='Maharashtra', district_name='Buldhana', block_name='Mehkar', lat=0, lng=0, fee_type='Paid', district_id=367), 149730: Center(id=149730, name='Dhad RH', state_name='Maharashtra', district_name='Buldhana', block_name='Buldhana', lat=20, lng=76, fee_type='Free', district_id=367), 149852: Center(id=149852, name='4. Jalgaon Jamod RH', state_name='Maharashtra', district_name='Buldhana', block_name='Jalgaon Jamod', lat=21, lng=76, fee_type='Free', district_id=367), 151090: Center(id=151090, name='Shegaon UHC', state_name='Maharashtra', district_name='Buldhana', block_name='Shegaon', lat=20, lng=76, fee_type='Free', district_id=367), 571838: Center(id=571838, name='11. Sangrampur PHC', state_name='Maharashtra', district_name='Buldhana', block_name='Sangrampur', lat=21, lng=76, fee_type='Free', district_id=367), 604822: Center(id=604822, name='Kolte Hospital', state_name='Maharashtra', district_name='Buldhana', block_name='Buldhana', lat=20, lng=76, fee_type='Paid', district_id=367), 150425: Center(id=150425, name='Dahid Bk Awc', state_name='Maharashtra', district_name='Buldhana', block_name='Buldhana', lat=0, lng=0, fee_type='Free', district_id=367), 149394: Center(id=149394, name='Dhandarwadi Awc', state_name='Maharashtra', district_name='Buldhana', block_name='Sindkhed Raja', lat=0, lng=0, fee_type='Free', district_id=367), 668846: Center(id=668846, name='Gummi Campas', state_name='Maharashtra', district_name='Buldhana', block_name='Buldhana', lat=0, lng=0, fee_type='Free', district_id=367), 604811: Center(id=604811, name='Amrut Speciality Hospital', state_name='Maharashtra', district_name='Buldhana', block_name='Buldhana', lat=20, lng=76, fee_type='Paid', district_id=367), 151620: Center(id=151620, name='Dongarkhandala', state_name='Maharashtra', district_name='Buldhana', block_name='Buldhana', lat=0, lng=0, fee_type='Free', district_id=367), 150500: Center(id=150500, name='Kodri SC', state_name='Maharashtra', district_name='Buldhana', block_name='Sangrampur', lat=0, lng=0, fee_type='Free', district_id=367), 150890: Center(id=150890, name='Gunj Sub Center', state_name='Maharashtra', district_name='Buldhana', block_name='Sindkhed Raja', lat=0, lng=0, fee_type='Free', district_id=367), 149816: Center(id=149816, name='Kolwad SC', state_name='Maharashtra', district_name='Buldhana', block_name='Buldhana', lat=0, lng=0, fee_type='Free', district_id=367), 672816: Center(id=672816, name='Mangrul Nawghare', state_name='Maharashtra', district_name='Buldhana', block_name='Chikhli', lat=0, lng=0, fee_type='Free', district_id=367), 673485: Center(id=673485, name='Undri PHC Campus', state_name='Maharashtra', district_name='Buldhana', block_name='Chikhli', lat=20, lng=76, fee_type='Free', district_id=367), 675052: Center(id=675052, name='Malkapur Rural', state_name='Maharashtra', district_name='Buldhana', block_name='Malkapur', lat=0, lng=0, fee_type='Free', district_id=367), 685739: Center(id=685739, name='Kolwad SC Campus', state_name='Maharashtra', district_name='Buldhana', block_name='Buldhana', lat=0, lng=0, fee_type='Free', district_id=367), 685851: Center(id=685851, name='Bramhapuri SC Campus', state_name='Maharashtra', district_name='Buldhana', block_name='Mehkar', lat=0, lng=0, fee_type='Free', district_id=367), 685842: Center(id=685842, name='Dudha SC Campus', state_name='Maharashtra', district_name='Buldhana', block_name='Mehkar', lat=0, lng=0, fee_type='Free', district_id=367), 685755: Center(id=685755, name='Warkhed SC Campus', state_name='Maharashtra', district_name='Buldhana', block_name='Chikhli', lat=0, lng=0, fee_type='Free', district_id=367), 686263: Center(id=686263, name='Loni Gawali Campus', state_name='Maharashtra', district_name='Buldhana', block_name='Mehkar', lat=0, lng=0, fee_type='Free', district_id=367), 686928: Center(id=686928, name='Makodi Campus', state_name='Maharashtra', district_name='Buldhana', block_name='Motala', lat=0, lng=0, fee_type='Free', district_id=367), 686152: Center(id=686152, name='Atali Campus', state_name='Maharashtra', district_name='Buldhana', block_name='Khamgaon', lat=0, lng=0, fee_type='Free', district_id=367)})\n"
     ]
    }
   ],
   "source": [
    "MAX_DAYS = 15\n",
    "district_id = 367\n",
    "\n",
    "\n",
    "def get_data_fiften_days_in_future_from_today():\n",
    "    base = datetime.datetime.today()\n",
    "    date_list = [base + datetime.timedelta(days=x) for x in range(MAX_DAYS)]\n",
    "    return [x.strftime(\"%d-%m-%Y\") for x in date_list]\n",
    "\n",
    "\n",
    "for INP_DATE in get_data_fiften_days_in_future_from_today():\n",
    "    URL = GET_APOINTMENT_DATA_API_URL.format(district_id, INP_DATE)\n",
    "    response = requests.get(URL)\n",
    "    if response.ok:\n",
    "        resp_json = response.json()\n",
    "        if resp_json[\"centers\"]:\n",
    "            for center in resp_json[\"centers\"]:\n",
    "                center_id = center[\"center_id\"]\n",
    "                center_name = center[\"name\"]\n",
    "                CENTERS[center_id] = Center(id=center_id,\n",
    "                                            name=center_name,\n",
    "                                            lat=center[\"lat\"],\n",
    "                                            lng=center[\"long\"],\n",
    "                                            district_id=district_id,\n",
    "                                            state_name=center[\"state_name\"],\n",
    "                                            district_name=center[\"district_name\"],\n",
    "                                            block_name=center[\"block_name\"],\n",
    "                                            fee_type=center[\"fee_type\"])\n",
    "                for session in center[\"sessions\"]:\n",
    "                    session_id = session[\"session_id\"]\n",
    "                    SESSIONS[session_id] = Session(id=session_id,\n",
    "                                                   date=session[\"date\"],\n",
    "                                                   available_capacity=session[\"available_capacity\"],\n",
    "                                                   min_age_limit=session[\"min_age_limit\"],\n",
    "                                                   vaccine=session[\"vaccine\"],\n",
    "                                                   district_id=district_id)\n",
    "        else:\n",
    "            print(\"No available slots on {}\".format(INP_DATE))\n"
   ]
  },
  {
   "cell_type": "code",
   "execution_count": 83,
   "id": "67ace3b0",
   "metadata": {},
   "outputs": [
    {
     "name": "stdout",
     "output_type": "stream",
     "text": [
      "         id                      name   state_name district_name block_name  \\\n",
      "0    150815          Raipur Khurd PHC  Maharashtra      Buldhana   Buldhana   \n",
      "1    692573   Buldhana DH - 2 (18-44)  Maharashtra      Buldhana   Buldhana   \n",
      "2    149982              Khamgaon UHC  Maharashtra      Buldhana   Khamgaon   \n",
      "3    563391         Chikhli RH Campus  Maharashtra      Buldhana    Chikhli   \n",
      "4    613551  Dhanwe Hospital Chikhali  Maharashtra      Buldhana    Chikhli   \n",
      "..      ...                       ...          ...           ...        ...   \n",
      "98   685842           Dudha SC Campus  Maharashtra      Buldhana     Mehkar   \n",
      "99   685755         Warkhed SC Campus  Maharashtra      Buldhana    Chikhli   \n",
      "100  686263        Loni Gawali Campus  Maharashtra      Buldhana     Mehkar   \n",
      "101  686928             Makodi Campus  Maharashtra      Buldhana     Motala   \n",
      "102  686152              Atali Campus  Maharashtra      Buldhana   Khamgaon   \n",
      "\n",
      "     lat  lng fee_type  district_id  \n",
      "0     20   76     Free          367  \n",
      "1      0    0     Free          367  \n",
      "2     20   76     Free          367  \n",
      "3     20   76     Free          367  \n",
      "4     20   76     Paid          367  \n",
      "..   ...  ...      ...          ...  \n",
      "98     0    0     Free          367  \n",
      "99     0    0     Free          367  \n",
      "100    0    0     Free          367  \n",
      "101    0    0     Free          367  \n",
      "102    0    0     Free          367  \n",
      "\n",
      "[103 rows x 9 columns]\n"
     ]
    }
   ],
   "source": [
    "CENTER_DF = pd.DataFrame.from_dict([asdict(district) for district in CENTERS.values()])\n",
    "print(CENTER_DF)"
   ]
  },
  {
   "cell_type": "code",
   "execution_count": null,
   "id": "fbb3b860",
   "metadata": {},
   "outputs": [],
   "source": []
  }
 ],
 "metadata": {
  "kernelspec": {
   "display_name": "Python 3",
   "language": "python",
   "name": "python3"
  },
  "language_info": {
   "codemirror_mode": {
    "name": "ipython",
    "version": 3
   },
   "file_extension": ".py",
   "mimetype": "text/x-python",
   "name": "python",
   "nbconvert_exporter": "python",
   "pygments_lexer": "ipython3",
   "version": "3.8.2"
  }
 },
 "nbformat": 4,
 "nbformat_minor": 5
}
