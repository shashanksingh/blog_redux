{
 "cells": [
  {
   "cell_type": "markdown",
   "id": "e4c32caf",
   "metadata": {},
   "source": [
    "# Covid vs India\n",
    "One of the biggest question I have been wondering is , with every adult allowed now to register, Where are vaccines slots available in india ? How can I make this decision programmitcally because trying to find information on government website is rather \"sisyphus task\".\n",
    "\n",
    "So with rather self involed goal in mind, We would using publicly avaialbe data try to answer following questions\n",
    "\n",
    "1. Latest vaccine slots per district and State in India\n",
    "2. Top 5 States Running behind on schedule\n",
    "3. Top 5 States Running ahead of everyone else.\n",
    "4. When can I latest find slots in Delhi, Bombay, Chennai and Bangalore for people between 18-45\n",
    "\n",
    "\n",
    "- toc: false\n",
    "- branch: master\n",
    "- badges: false,\n",
    "- comments: true,\n",
    "- categories: [vaccine, covid, jupyter, python],\n",
    "- image: images/statistics.png,\n",
    "- hide: false\n",
    "\n",
    "Thanks to https://github.com/bhattbhavesh91/cowin-vaccination-slot-availability/blob/main/cowin-api-availability.ipynb for doing actual work, I picked up loads of stuff from there.\n"
   ]
  },
  {
   "cell_type": "code",
   "execution_count": null,
   "id": "db9f0631",
   "metadata": {
    "scrolled": true
   },
   "outputs": [
    {
     "name": "stdout",
     "output_type": "stream",
     "text": [
      "Requirement already satisfied: install in /Users/saimeerashanawas/Library/Python/3.8/lib/python/site-packages (1.3.4)\n",
      "Requirement already satisfied: requests in /Users/saimeerashanawas/Library/Python/3.8/lib/python/site-packages (2.25.1)\n",
      "Requirement already satisfied: certifi>=2017.4.17 in /Users/saimeerashanawas/Library/Python/3.8/lib/python/site-packages (from requests) (2020.12.5)\n",
      "Requirement already satisfied: idna<3,>=2.5 in /Users/saimeerashanawas/Library/Python/3.8/lib/python/site-packages (from requests) (2.10)\n",
      "Requirement already satisfied: chardet<5,>=3.0.2 in /Users/saimeerashanawas/Library/Python/3.8/lib/python/site-packages (from requests) (4.0.0)\n",
      "Requirement already satisfied: urllib3<1.27,>=1.21.1 in /Users/saimeerashanawas/Library/Python/3.8/lib/python/site-packages (from requests) (1.26.4)\n",
      "\u001b[33mWARNING: You are using pip version 19.2.3, however version 21.1 is available.\n",
      "You should consider upgrading via the 'pip install --upgrade pip' command.\u001b[0m\n",
      "Requirement already satisfied: install in /Users/saimeerashanawas/Library/Python/3.8/lib/python/site-packages (1.3.4)\n",
      "Requirement already satisfied: altair in /Users/saimeerashanawas/Library/Python/3.8/lib/python/site-packages (4.1.0)\n",
      "Requirement already satisfied: jinja2 in /Users/saimeerashanawas/Library/Python/3.8/lib/python/site-packages (from altair) (2.11.3)\n",
      "Requirement already satisfied: numpy in /Users/saimeerashanawas/Library/Python/3.8/lib/python/site-packages (from altair) (1.20.2)\n",
      "Requirement already satisfied: entrypoints in /Users/saimeerashanawas/Library/Python/3.8/lib/python/site-packages (from altair) (0.3)\n",
      "Requirement already satisfied: pandas>=0.18 in /Users/saimeerashanawas/Library/Python/3.8/lib/python/site-packages (from altair) (1.2.4)\n",
      "Requirement already satisfied: jsonschema in /Users/saimeerashanawas/Library/Python/3.8/lib/python/site-packages (from altair) (3.2.0)\n",
      "Requirement already satisfied: toolz in /Users/saimeerashanawas/Library/Python/3.8/lib/python/site-packages (from altair) (0.11.1)\n",
      "Requirement already satisfied: MarkupSafe>=0.23 in /Users/saimeerashanawas/Library/Python/3.8/lib/python/site-packages (from jinja2->altair) (1.1.1)\n",
      "Requirement already satisfied: python-dateutil>=2.7.3 in /Users/saimeerashanawas/Library/Python/3.8/lib/python/site-packages (from pandas>=0.18->altair) (2.8.1)\n",
      "Requirement already satisfied: pytz>=2017.3 in /Users/saimeerashanawas/Library/Python/3.8/lib/python/site-packages (from pandas>=0.18->altair) (2021.1)\n",
      "Requirement already satisfied: six>=1.11.0 in /Library/Developer/CommandLineTools/Library/Frameworks/Python3.framework/Versions/3.8/lib/python3.8/site-packages (from jsonschema->altair) (1.15.0)\n",
      "Requirement already satisfied: attrs>=17.4.0 in /Users/saimeerashanawas/Library/Python/3.8/lib/python/site-packages (from jsonschema->altair) (20.3.0)\n",
      "Requirement already satisfied: setuptools in /Library/Developer/CommandLineTools/Library/Frameworks/Python3.framework/Versions/3.8/lib/python3.8/site-packages (from jsonschema->altair) (41.2.0)\n",
      "Requirement already satisfied: pyrsistent>=0.14.0 in /Users/saimeerashanawas/Library/Python/3.8/lib/python/site-packages (from jsonschema->altair) (0.17.3)\n"
     ]
    }
   ],
   "source": [
    "!{sys.executable} -m pip install --user install requests\n",
    "!{sys.executable} -m pip install --user install altair\n",
    "!{sys.executable} -m pip install --user install pandas\n",
    "!{sys.executable} -m pip install --user install geopandas\n",
    "#hide"
   ]
  },
  {
   "cell_type": "markdown",
   "id": "bf518408",
   "metadata": {},
   "source": [
    "Get All libraries in place"
   ]
  },
  {
   "cell_type": "code",
   "execution_count": null,
   "id": "aa196a49",
   "metadata": {},
   "outputs": [],
   "source": [
    "import geopandas as gpd\n",
    "import pandas as pd\n",
    "import requests\n",
    "import json\n",
    "from collections import defaultdict\n",
    "from dataclasses import dataclass, asdict\n",
    "import datetime\n",
    "from typing import List"
   ]
  },
  {
   "cell_type": "markdown",
   "id": "79d85b16",
   "metadata": {},
   "source": [
    "Lets make a data class to store our geographical and vaccination data"
   ]
  },
  {
   "cell_type": "code",
   "execution_count": null,
   "id": "f5fb8984",
   "metadata": {},
   "outputs": [],
   "source": [
    "@dataclass\n",
    "class District:\n",
    "    id:str = None\n",
    "    name:str = None\n",
    "    state_id:int = None\n",
    "\n",
    "\n",
    "@dataclass\n",
    "class Session:\n",
    "    id:str = None\n",
    "    date:str = None\n",
    "    available_capacity:int = None\n",
    "    min_age_limit:int = None\n",
    "    vaccine:str = None\n",
    "    center_id:str = None\n",
    "    district_id:str = None\n",
    "        \n",
    "@dataclass\n",
    "class Center:\n",
    "    id:str = None\n",
    "    name:str = None\n",
    "    state_name:str = None\n",
    "    district_name:str = None\n",
    "    block_name:str = None\n",
    "    lat:int = None\n",
    "    lng:int = None\n",
    "    fee_type:str = None\n",
    "    district_id:str = None\n"
   ]
  },
  {
   "cell_type": "markdown",
   "id": "17da0fae",
   "metadata": {},
   "source": [
    "Lets call the API to get the populate geographical data"
   ]
  },
  {
   "cell_type": "code",
   "execution_count": null,
   "id": "5c394aab",
   "metadata": {},
   "outputs": [],
   "source": [
    "MOZILLA_HEADER = 'Mozilla/5.0 (Macintosh; Intel Mac OS X 10_10_1) AppleWebKit/537.36 (KHTML, like Gecko) Chrome/39.0.2171.95 Safari/537.36'\n",
    "GET_DISTRICT_DATA_API_URL = \"https://cdn-api.co-vin.in/api/v2/admin/location/districts/{}\"\n",
    "GET_APOINTMENT_DATA_API_URL = \"https://cdn-api.co-vin.in/api/v2/appointment/sessions/public/calendarByDistrict?district_id={}&date={}\"\n",
    "\n",
    "STATE_TO_DISTRICT_MAPPING = defaultdict(list)\n",
    "DISTRICTS = defaultdict(District)\n",
    "CENTERS = defaultdict(Center)\n",
    "Session = defaultdict(Session)\n",
    "\n",
    "STATE_ID_TO_STATE_NAME_MAPPING = {\n",
    "    1:\"Andaman and Nicobar\",\n",
    "    2:\"\",\n",
    "    3:\"\",\n",
    "    4:\"\",\n",
    "    5:\"\",\n",
    "    6:\"\",\n",
    "    7:\"\",\n",
    "    8:\"\",\n",
    "    9:\"\",\n",
    "    10:\"\",\n",
    "    11:\"\",\n",
    "    12:\"\",\n",
    "    13:\"\",\n",
    "    14:\"\",\n",
    "    15:\"\",\n",
    "    16:\"\",\n",
    "    17:\"\",\n",
    "    18:\"\",\n",
    "    19:\"\",\n",
    "    20:\"\",\n",
    "    21:\"\",\n",
    "    22:\"\",\n",
    "    23:\"\",\n",
    "    24:\"\",\n",
    "    25:\"\",\n",
    "    26:\"\",\n",
    "    27:\"\",\n",
    "    28:\"\",\n",
    "    29:\"\",\n",
    "    30:\"\",\n",
    "    31:\"\",\n",
    "    32:\"\",\n",
    "    33:\"\",\n",
    "    34:\"\",\n",
    "    35:\"\",\n",
    "    36:\"\",\n",
    "    37:\"\",\n",
    "    38:\"\",\n",
    "    39:\"\",\n",
    "    40:\"\",\n",
    "}\n",
    "\n",
    "for state_code in STATE_ID_TO_STATE_NAME_MAPPING.keys():\n",
    "    headers = {'User-Agent': MOZILLA_HEADER}\n",
    "    response = requests.get(GET_DISTRICT_DATA_API_URL.format(state_code), headers=headers)\n",
    "    districts_data = json.loads(response.content)\n",
    "    for district in districts_data['districts']:\n",
    "        district_name = district['district_name']\n",
    "        district_id = district['district_id']\n",
    "        district = District(name = district_name, id = district_id , state_id=state_code) \n",
    "        STATE_TO_DISTRICT_MAPPING[state_code].append(district)\n",
    "        DISTRICTS[district_id] = district"
   ]
  },
  {
   "cell_type": "code",
   "execution_count": null,
   "id": "ebb1edd1",
   "metadata": {},
   "outputs": [],
   "source": [
    "DISTRICT_DF = pd.DataFrame.from_dict([asdict(district) for district in DISTRICTS.values()])\n",
    "print(DISTRICT_DF)"
   ]
  },
  {
   "cell_type": "markdown",
   "id": "ab040a8c",
   "metadata": {},
   "source": [
    "Lets now call actual api to get slots "
   ]
  },
  {
   "cell_type": "code",
   "execution_count": null,
   "id": "24e5840c",
   "metadata": {},
   "outputs": [],
   "source": [
    "MAX_DAYS = 15\n",
    "DIST_ID = 367\n",
    "def get_data_fiften_days_in_future_from_today():\n",
    "    base = datetime.datetime.today()\n",
    "    date_list = [base + datetime.timedelta(days=x) for x in range(MAX_DAYS)]\n",
    "    return [x.strftime(\"%d-%m-%Y\") for x in date_list]\n",
    "\n",
    "for INP_DATE in get_data_fiften_days_in_future_from_today():\n",
    "    URL = \"\".format(DIST_ID, INP_DATE)\n",
    "    response = requests.get(URL)\n",
    "    if response.ok:\n",
    "        resp_json = response.json()\n",
    "        if resp_json[\"centers\"]:\n",
    "            for center in resp_json[\"centers\"]:\n",
    "                center_id = center[\"center_id\"]\n",
    "                center_name = center[\"name\"]\n",
    "                CENTERS[center_id] = Center(id= center_id,\n",
    "                                            name = center_name,\n",
    "                                            lat=center[\"lat\"],\n",
    "                                            lng=center[\"long\"],\n",
    "                                            district_id = DIST_ID,\n",
    "                                            state_name=center[\"state_name\"],\n",
    "                                            district_name=center[\"district_name\"],\n",
    "                                            block_name=center[\"block_name\"],\n",
    "                                            fee_type=center[\"fee_type\"])\n",
    "            print(\"You can book vaccine slots on {}\".format(INP_DATE))\n",
    "        else:\n",
    "            print(\"No available slots on {}\".format(INP_DATE))\n",
    "\n",
    "print(CENTERS)"
   ]
  },
  {
   "cell_type": "code",
   "execution_count": null,
   "id": "e2386380",
   "metadata": {},
   "outputs": [],
   "source": []
  }
 ],
 "metadata": {
  "kernelspec": {
   "display_name": "Python 3",
   "language": "python",
   "name": "python3"
  },
  "language_info": {
   "codemirror_mode": {
    "name": "ipython",
    "version": 3
   },
   "file_extension": ".py",
   "mimetype": "text/x-python",
   "name": "python",
   "nbconvert_exporter": "python",
   "pygments_lexer": "ipython3",
   "version": "3.8.2"
  }
 },
 "nbformat": 4,
 "nbformat_minor": 5
}
